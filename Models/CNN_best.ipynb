{
 "cells": [
  {
   "cell_type": "markdown",
   "metadata": {
    "id": "7zgl2-_I-B9F"
   },
   "source": [
    "# Mount google drive to colab"
   ]
  },
  {
   "cell_type": "code",
   "execution_count": null,
   "metadata": {
    "colab": {
     "base_uri": "https://localhost:8080/"
    },
    "id": "5gZuziCD8UKt",
    "outputId": "a382edaa-dc68-4f4a-96e6-98fe28eb29ac"
   },
   "outputs": [
    {
     "name": "stdout",
     "output_type": "stream",
     "text": [
      "Mounted at /content/drive\n"
     ]
    }
   ],
   "source": [
    "from google.colab import drive\n",
    "drive.mount(\"/content/drive\")"
   ]
  },
  {
   "cell_type": "markdown",
   "metadata": {
    "id": "PgoZf6-I8Wih"
   },
   "source": [
    "# Import libraries"
   ]
  },
  {
   "cell_type": "code",
   "execution_count": null,
   "metadata": {
    "id": "FFsOu3SI8YGv"
   },
   "outputs": [],
   "source": [
    "import os\n",
    "import random \n",
    "import numpy as np\n",
    "import shutil\n",
    "import time \n",
    "from PIL import Image, ImageOps\n",
    "import cv2\n",
    "import pandas as pd\n",
    "import math\n",
    "\n",
    "import matplotlib.pyplot as plt\n",
    "import seaborn as sns\n",
    "sns.set_style('darkgrid')\n",
    "\n",
    "import tensorflow as tf\n",
    "\n",
    "from keras import models\n",
    "from keras import layers\n",
    "from keras import optimizers\n",
    "from keras.callbacks import EarlyStopping\n",
    "from keras.callbacks import ModelCheckpoint\n",
    "from keras.callbacks import LearningRateScheduler\n",
    "from keras.utils import np_utils\n",
    "\n",
    "\n",
    "from sklearn.metrics import confusion_matrix, classification_report\n",
    "from sklearn.preprocessing import LabelBinarizer\n",
    "from sklearn.preprocessing import MinMaxScaler\n",
    "from keras.preprocessing.image import ImageDataGenerator\n",
    "\n",
    "from keras import models, layers, optimizers\n",
    "from keras.callbacks import ModelCheckpoint\n",
    "from keras import losses"
   ]
  },
  {
   "cell_type": "markdown",
   "metadata": {
    "id": "EhxXGhFO8gl9"
   },
   "source": [
    "# Initialize basic working directories"
   ]
  },
  {
   "cell_type": "code",
   "execution_count": null,
   "metadata": {
    "id": "n5xul92s8g-2"
   },
   "outputs": [],
   "source": [
    "directory = \"drive/MyDrive/Datasets/Sign digits/Dataset\"\n",
    "trainDir = \"train\"\n",
    "testDir = \"test\"\n",
    "os.chdir(directory)"
   ]
  },
  {
   "cell_type": "markdown",
   "metadata": {
    "id": "o2DkBGOg8sUJ"
   },
   "source": [
    "# Augmented dataframes"
   ]
  },
  {
   "cell_type": "code",
   "execution_count": null,
   "metadata": {
    "id": "E__MhggM8s1I"
   },
   "outputs": [],
   "source": [
    "augDir = \"augmented/\"\n",
    "classNames_train = os.listdir(augDir+'train/')\n",
    "classNames_test = os.listdir(augDir+'test/')\n",
    "\n",
    "\n",
    "classes_train = []\n",
    "data_train = []\n",
    "paths_train = []\n",
    "\n",
    "classes_test = []\n",
    "data_test = []\n",
    "paths_test = []\n",
    "\n",
    "classes_val = []\n",
    "data_val = []\n",
    "paths_val = []\n",
    "\n",
    "for className in range(0,10):\n",
    "  temp_train = os.listdir(augDir+'train/'+str(className))\n",
    "  temp_test = os.listdir(augDir+'test/'+str(className))\n",
    "\n",
    "  for dataFile in temp_train:\n",
    "    path_train = augDir+'train/'+str(className)+'/'+dataFile\n",
    "\n",
    "    paths_train.append(path_train)\n",
    "    classes_train .append(str(className))\n",
    " \n",
    "  testSize = [i for i in range(math.floor(len(temp_test)/2),len(temp_test))]\n",
    "  valSize = [i for i in range(0,math.floor(len(temp_test)/2))]\n",
    "  for dataFile in testSize:\n",
    "    path_test = augDir+'test/'+str(className)+'/'+temp_test[dataFile]\n",
    "\n",
    "    paths_test.append(path_test)\n",
    "    classes_test .append(str(className))\n",
    "\n",
    "  for dataFile in valSize:\n",
    "    path_val = augDir+'test/'+str(className)+'/'+temp_test[dataFile]\n",
    "\n",
    "    paths_val.append(path_val)\n",
    "    classes_val .append(str(className))\n",
    "\n",
    " \n",
    "augTrain_df = pd.DataFrame({'fileNames': paths_train, 'labels': classes_train})\n",
    "augTest_df = pd.DataFrame({'fileNames': paths_test, 'labels': classes_test})\n",
    "augVal_df = pd.DataFrame({'fileNames': paths_val, 'labels': classes_val})"
   ]
  },
  {
   "cell_type": "code",
   "execution_count": null,
   "metadata": {
    "colab": {
     "base_uri": "https://localhost:8080/",
     "height": 359
    },
    "id": "wjgF25ul9KCi",
    "outputId": "7809760c-bdbe-44ff-b44d-3fe7452b6973"
   },
   "outputs": [
    {
     "data": {
      "text/html": [
       "<div>\n",
       "<style scoped>\n",
       "    .dataframe tbody tr th:only-of-type {\n",
       "        vertical-align: middle;\n",
       "    }\n",
       "\n",
       "    .dataframe tbody tr th {\n",
       "        vertical-align: top;\n",
       "    }\n",
       "\n",
       "    .dataframe thead th {\n",
       "        text-align: right;\n",
       "    }\n",
       "</style>\n",
       "<table border=\"1\" class=\"dataframe\">\n",
       "  <thead>\n",
       "    <tr style=\"text-align: right;\">\n",
       "      <th></th>\n",
       "      <th>fileNames</th>\n",
       "      <th>labels</th>\n",
       "    </tr>\n",
       "  </thead>\n",
       "  <tbody>\n",
       "    <tr>\n",
       "      <th>0</th>\n",
       "      <td>augmented/train/0/IMG_5705.JPG</td>\n",
       "      <td>0</td>\n",
       "    </tr>\n",
       "    <tr>\n",
       "      <th>1</th>\n",
       "      <td>augmented/train/0/IMG_4306 (1).JPG</td>\n",
       "      <td>0</td>\n",
       "    </tr>\n",
       "    <tr>\n",
       "      <th>2</th>\n",
       "      <td>augmented/train/0/IMG_4435.JPG</td>\n",
       "      <td>0</td>\n",
       "    </tr>\n",
       "    <tr>\n",
       "      <th>3</th>\n",
       "      <td>augmented/train/0/IMG_4306.JPG</td>\n",
       "      <td>0</td>\n",
       "    </tr>\n",
       "    <tr>\n",
       "      <th>4</th>\n",
       "      <td>augmented/train/0/IMG_4435 (1).JPG</td>\n",
       "      <td>0</td>\n",
       "    </tr>\n",
       "    <tr>\n",
       "      <th>5</th>\n",
       "      <td>augmented/train/0/IMG_5276.JPG</td>\n",
       "      <td>0</td>\n",
       "    </tr>\n",
       "    <tr>\n",
       "      <th>6</th>\n",
       "      <td>augmented/train/0/IMG_4543 (1).JPG</td>\n",
       "      <td>0</td>\n",
       "    </tr>\n",
       "    <tr>\n",
       "      <th>7</th>\n",
       "      <td>augmented/train/0/IMG_5276 (1).JPG</td>\n",
       "      <td>0</td>\n",
       "    </tr>\n",
       "    <tr>\n",
       "      <th>8</th>\n",
       "      <td>augmented/train/0/IMG_4543.JPG</td>\n",
       "      <td>0</td>\n",
       "    </tr>\n",
       "    <tr>\n",
       "      <th>9</th>\n",
       "      <td>augmented/train/0/IMG_5705 (1).JPG</td>\n",
       "      <td>0</td>\n",
       "    </tr>\n",
       "  </tbody>\n",
       "</table>\n",
       "</div>"
      ],
      "text/plain": [
       "                            fileNames labels\n",
       "0      augmented/train/0/IMG_5705.JPG      0\n",
       "1  augmented/train/0/IMG_4306 (1).JPG      0\n",
       "2      augmented/train/0/IMG_4435.JPG      0\n",
       "3      augmented/train/0/IMG_4306.JPG      0\n",
       "4  augmented/train/0/IMG_4435 (1).JPG      0\n",
       "5      augmented/train/0/IMG_5276.JPG      0\n",
       "6  augmented/train/0/IMG_4543 (1).JPG      0\n",
       "7  augmented/train/0/IMG_5276 (1).JPG      0\n",
       "8      augmented/train/0/IMG_4543.JPG      0\n",
       "9  augmented/train/0/IMG_5705 (1).JPG      0"
      ]
     },
     "execution_count": 5,
     "metadata": {
      "tags": []
     },
     "output_type": "execute_result"
    }
   ],
   "source": [
    "augTrain_df.head(10)"
   ]
  },
  {
   "cell_type": "code",
   "execution_count": null,
   "metadata": {
    "colab": {
     "base_uri": "https://localhost:8080/",
     "height": 337
    },
    "id": "F-MKiSfb9Ksw",
    "outputId": "5efea71a-f35f-435d-b4f0-eb54be7bcbb2"
   },
   "outputs": [
    {
     "data": {
      "text/plain": [
       "<matplotlib.axes._subplots.AxesSubplot at 0x7fec6d52de90>"
      ]
     },
     "execution_count": 15,
     "metadata": {
      "tags": []
     },
     "output_type": "execute_result"
    },
    {
     "data": {
      "image/png": "[encoded data removed]",
      "text/plain": [
       "<Figure size 720x360 with 1 Axes>"
      ]
     },
     "metadata": {
      "tags": []
     },
     "output_type": "display_data"
    }
   ],
   "source": [
    "augTrain_df['labels'].hist(figsize=(10,5))\n",
    "augTest_df['labels'].hist(figsize=(10,5))"
   ]
  },
  {
   "cell_type": "code",
   "execution_count": null,
   "metadata": {
    "colab": {
     "base_uri": "https://localhost:8080/",
     "height": 337
    },
    "id": "W3t-PNZz9TDO",
    "outputId": "3975d87e-b58e-43e3-af9c-72fbac467066"
   },
   "outputs": [
    {
     "data": {
      "text/plain": [
       "<matplotlib.axes._subplots.AxesSubplot at 0x7fec6d39dcd0>"
      ]
     },
     "execution_count": 16,
     "metadata": {
      "tags": []
     },
     "output_type": "execute_result"
    },
    {
     "data": {
      "image/png": "[encoded data removed]",
      "text/plain": [
       "<Figure size 720x360 with 1 Axes>"
      ]
     },
     "metadata": {
      "tags": []
     },
     "output_type": "display_data"
    }
   ],
   "source": [
    "augTest_df['labels'].hist(figsize=(10,5))\n",
    "augVal_df['labels'].hist(figsize=(10,5))"
   ]
  },
  {
   "cell_type": "code",
   "execution_count": null,
   "metadata": {
    "colab": {
     "base_uri": "https://localhost:8080/"
    },
    "id": "gQouoAkn9Y3J",
    "outputId": "22962578-7d86-4ca9-b2d3-3127d2437f4f"
   },
   "outputs": [
    {
     "name": "stderr",
     "output_type": "stream",
     "text": [
      "/usr/local/lib/python3.7/dist-packages/ipykernel_launcher.py:37: VisibleDeprecationWarning: Creating an ndarray from ragged nested sequences (which is a list-or-tuple of lists-or-tuples-or ndarrays with different lengths or shapes) is deprecated. If you meant to do this, you must specify 'dtype=object' when creating the ndarray\n",
      "/usr/local/lib/python3.7/dist-packages/ipykernel_launcher.py:39: VisibleDeprecationWarning: Creating an ndarray from ragged nested sequences (which is a list-or-tuple of lists-or-tuples-or ndarrays with different lengths or shapes) is deprecated. If you meant to do this, you must specify 'dtype=object' when creating the ndarray\n"
     ]
    }
   ],
   "source": [
    "augTrainX=[]\n",
    "augTrainY=[]\n",
    "augTestX=[]\n",
    "augTestY=[]\n",
    "augValX=[]\n",
    "augValY=[]\n",
    "\n",
    "iter = -1\n",
    "\n",
    "#read images from train set\n",
    "for path in augTrain_df['fileNames']:\n",
    "    iter = iter + 1\n",
    "    #image = np.array((Image.open(path)))\n",
    "    image = cv2.imread(path)\n",
    "    augTrainX.append(image)\n",
    "    label = augTrain_df['labels'][iter]\n",
    "    augTrainY.append(label)\n",
    "\n",
    "iter = -1\n",
    "\n",
    "for path in augTest_df['fileNames']:\n",
    "    iter = iter + 1\n",
    "    #image = np.array((Image.open(path)))\n",
    "    image = cv2.imread(path)\n",
    "    augTestX.append(image)\n",
    "    augTestY.append(augTest_df['labels'][iter])\n",
    "\n",
    "iter = -1\n",
    "\n",
    "for path in augVal_df['fileNames']:\n",
    "    iter = iter + 1\n",
    "    #image = np.array((Image.open(path)))\n",
    "    image = cv2.imread(path)\n",
    "    augValX.append(image)\n",
    "    augValY.append(augVal_df['labels'][iter])\n",
    "\n",
    "augTrainX = np.array(augTrainX)\n",
    "augTestX = np.array(augTestX)\n",
    "augValX = np.array(augValX)\n",
    "\n",
    "    \n",
    "augTrainX = augTrainX / 255\n",
    "augTestX = augTestX / 255\n",
    "augValX = augValX / 255\n",
    "# OneHot Encode the Output\n",
    "augTrainY = np_utils.to_categorical(augTrainY, 10)\n",
    "augTestY = np_utils.to_categorical(augTestY, 10)\n",
    "augValY = np_utils.to_categorical(augValY, 10)"
   ]
  },
  {
   "cell_type": "code",
   "execution_count": null,
   "metadata": {
    "colab": {
     "base_uri": "https://localhost:8080/"
    },
    "id": "EbWJ62QwFFIk",
    "outputId": "8d675a2a-221c-4863-d394-a0cd3614e2b6"
   },
   "outputs": [
    {
     "name": "stdout",
     "output_type": "stream",
     "text": [
      "Found 3124 validated image filenames belonging to 10 classes.\n",
      "Found 252 validated image filenames belonging to 10 classes.\n",
      "Found 252 validated image filenames belonging to 10 classes.\n"
     ]
    }
   ],
   "source": [
    "train_datagen = ImageDataGenerator(rescale=1./255)\n",
    "validation_datagen = ImageDataGenerator(rescale=1./255)\n",
    "test_datagen = ImageDataGenerator(rescale=1./255)\n",
    "\n",
    "train_generator = train_datagen.flow_from_dataframe(dataframe=augTrain_df,\n",
    "                                                    x_col=\"fileNames\",\n",
    "                                                    y_col=\"labels\",\n",
    "                                                    batch_size=16,\n",
    "                                                    class_mode=\"categorical\",\n",
    "                                                    color_mode=\"grayscale\",\n",
    "                                                    target_size=(100,100),\n",
    "                                                    shuffle=True)\n",
    "\n",
    "validation_generator = validation_datagen.flow_from_dataframe(dataframe=augVal_df,\n",
    "                                                    x_col=\"fileNames\",\n",
    "                                                    y_col=\"labels\",\n",
    "                                                    batch_size=16,\n",
    "                                                    class_mode=\"categorical\",\n",
    "                                                    color_mode=\"grayscale\",\n",
    "                                                    target_size=(100,100),\n",
    "                                                    shuffle=True)\n",
    "\n",
    "test_generator = test_datagen.flow_from_dataframe(dataframe=augTest_df,\n",
    "                                                    x_col=\"fileNames\",\n",
    "                                                    y_col=\"labels\",\n",
    "                                                    batch_size=16,\n",
    "                                                    class_mode=\"categorical\",\n",
    "                                                    color_mode=\"grayscale\",\n",
    "                                                    target_size=(100,100),\n",
    "                                                    shuffle=True)"
   ]
  },
  {
   "cell_type": "code",
   "execution_count": null,
   "metadata": {
    "colab": {
     "base_uri": "https://localhost:8080/"
    },
    "id": "UjohOxA0EruQ",
    "outputId": "53e576fd-312c-4c7b-99ad-2384af7f7bf4"
   },
   "outputs": [
    {
     "name": "stdout",
     "output_type": "stream",
     "text": [
      "Model: \"sequential\"\n",
      "_________________________________________________________________\n",
      "Layer (type)                 Output Shape              Param #   \n",
      "=================================================================\n",
      "conv2d (Conv2D)              (None, 100, 100, 64)      640       \n",
      "_________________________________________________________________\n",
      "batch_normalization (BatchNo (None, 100, 100, 64)      256       \n",
      "_________________________________________________________________\n",
      "max_pooling2d (MaxPooling2D) (None, 50, 50, 64)        0         \n",
      "_________________________________________________________________\n",
      "conv2d_1 (Conv2D)            (None, 50, 50, 32)        18464     \n",
      "_________________________________________________________________\n",
      "batch_normalization_1 (Batch (None, 50, 50, 32)        128       \n",
      "_________________________________________________________________\n",
      "max_pooling2d_1 (MaxPooling2 (None, 25, 25, 32)        0         \n",
      "_________________________________________________________________\n",
      "conv2d_2 (Conv2D)            (None, 25, 25, 16)        4624      \n",
      "_________________________________________________________________\n",
      "batch_normalization_2 (Batch (None, 25, 25, 16)        64        \n",
      "_________________________________________________________________\n",
      "max_pooling2d_2 (MaxPooling2 (None, 12, 12, 16)        0         \n",
      "_________________________________________________________________\n",
      "flatten (Flatten)            (None, 2304)              0         \n",
      "_________________________________________________________________\n",
      "dense (Dense)                (None, 128)               295040    \n",
      "_________________________________________________________________\n",
      "dropout (Dropout)            (None, 128)               0         \n",
      "_________________________________________________________________\n",
      "dense_1 (Dense)              (None, 10)                1290      \n",
      "=================================================================\n",
      "Total params: 320,506\n",
      "Trainable params: 320,282\n",
      "Non-trainable params: 224\n",
      "_________________________________________________________________\n"
     ]
    }
   ],
   "source": [
    "model_best = models.Sequential()\n",
    "\n",
    "model_best.add(layers.Conv2D(64, (3,3), input_shape=(100, 100,1), padding='same', activation='relu'))\n",
    "model_best.add(layers.BatchNormalization(momentum=0.1))\n",
    "model_best.add(layers.MaxPooling2D(pool_size=(2,2)))\n",
    "model_best.add(layers.Conv2D(32, (3,3), padding='same', activation='relu'))\n",
    "model_best.add(layers.BatchNormalization(momentum=0.1))\n",
    "model_best.add(layers.MaxPooling2D(pool_size=(2,2)))\n",
    "model_best.add(layers.Conv2D(16, (3,3), padding='same', activation='relu'))\n",
    "model_best.add(layers.BatchNormalization(momentum=0.1))\n",
    "model_best.add(layers.MaxPooling2D(pool_size=(2,2)))\n",
    "model_best.add(layers.Flatten())\n",
    "model_best.add(layers.Dense(128, activation='relu'))\n",
    "model_best.add(layers.Dropout(0.2))\n",
    "model_best.add(layers.Dense(10, activation='softmax'))\n",
    "\n",
    "model_best.summary()"
   ]
  },
  {
   "cell_type": "code",
   "execution_count": null,
   "metadata": {
    "colab": {
     "base_uri": "https://localhost:8080/"
    },
    "id": "JYwipqAcFPhq",
    "outputId": "9bfa958f-0504-42c1-9c3d-c294cfe4b98c"
   },
   "outputs": [
    {
     "name": "stdout",
     "output_type": "stream",
     "text": [
      "[INFO] Model is training...\n",
      "Epoch 1/20\n",
      "195/195 [==============================] - 87s 443ms/step - loss: 1.5492 - acc: 0.5419 - val_loss: 0.4457 - val_acc: 0.8373\n",
      "Epoch 2/20\n",
      "195/195 [==============================] - 86s 439ms/step - loss: 0.3078 - acc: 0.8933 - val_loss: 0.2915 - val_acc: 0.9087\n",
      "Epoch 3/20\n",
      "195/195 [==============================] - 85s 436ms/step - loss: 0.1132 - acc: 0.9614 - val_loss: 0.3068 - val_acc: 0.8968\n",
      "Epoch 4/20\n",
      "195/195 [==============================] - 86s 440ms/step - loss: 0.0780 - acc: 0.9808 - val_loss: 0.2856 - val_acc: 0.9246\n",
      "Epoch 5/20\n",
      "195/195 [==============================] - 86s 438ms/step - loss: 0.0408 - acc: 0.9869 - val_loss: 0.2254 - val_acc: 0.9444\n",
      "Epoch 6/20\n",
      "195/195 [==============================] - 86s 439ms/step - loss: 0.0308 - acc: 0.9909 - val_loss: 0.3072 - val_acc: 0.9286\n",
      "Epoch 7/20\n",
      "195/195 [==============================] - 85s 437ms/step - loss: 0.0409 - acc: 0.9857 - val_loss: 0.2902 - val_acc: 0.9246\n",
      "Epoch 8/20\n",
      "195/195 [==============================] - 85s 437ms/step - loss: 0.0526 - acc: 0.9827 - val_loss: 0.3072 - val_acc: 0.9206\n",
      "Epoch 9/20\n",
      "195/195 [==============================] - 86s 438ms/step - loss: 0.0241 - acc: 0.9896 - val_loss: 0.3179 - val_acc: 0.9127\n",
      "Epoch 10/20\n",
      "195/195 [==============================] - 85s 436ms/step - loss: 0.0223 - acc: 0.9945 - val_loss: 0.2930 - val_acc: 0.9405\n",
      "Epoch 11/20\n",
      "195/195 [==============================] - 86s 438ms/step - loss: 0.0151 - acc: 0.9952 - val_loss: 0.2063 - val_acc: 0.9444\n",
      "Epoch 12/20\n",
      "195/195 [==============================] - 86s 439ms/step - loss: 0.0185 - acc: 0.9940 - val_loss: 0.2123 - val_acc: 0.9563\n",
      "Epoch 13/20\n",
      "195/195 [==============================] - 86s 438ms/step - loss: 0.0434 - acc: 0.9863 - val_loss: 0.3235 - val_acc: 0.9484\n",
      "Epoch 14/20\n",
      "195/195 [==============================] - 85s 438ms/step - loss: 0.0478 - acc: 0.9856 - val_loss: 0.3105 - val_acc: 0.9365\n",
      "Epoch 15/20\n",
      "195/195 [==============================] - 86s 440ms/step - loss: 0.0110 - acc: 0.9966 - val_loss: 0.2986 - val_acc: 0.9405\n",
      "Epoch 16/20\n",
      "195/195 [==============================] - 86s 440ms/step - loss: 0.0169 - acc: 0.9932 - val_loss: 0.4730 - val_acc: 0.9286\n",
      "Epoch 17/20\n",
      "195/195 [==============================] - 85s 436ms/step - loss: 0.0693 - acc: 0.9743 - val_loss: 0.2832 - val_acc: 0.9405\n",
      "Epoch 18/20\n",
      "195/195 [==============================] - 85s 437ms/step - loss: 0.0265 - acc: 0.9925 - val_loss: 0.2911 - val_acc: 0.9365\n",
      "Epoch 19/20\n",
      "195/195 [==============================] - 86s 438ms/step - loss: 0.0233 - acc: 0.9920 - val_loss: 0.2732 - val_acc: 0.9524\n",
      "Epoch 20/20\n",
      "195/195 [==============================] - 85s 435ms/step - loss: 0.0167 - acc: 0.9940 - val_loss: 0.2515 - val_acc: 0.9603\n",
      "Time taken: 1713.1 seconds\n",
      "[INFO] Model is trained.\n"
     ]
    }
   ],
   "source": [
    "print(\"[INFO] Model is training...\")\n",
    "time1 = time.time()   # to measure time taken\n",
    "# Compile the model\n",
    "model_best.compile(loss='categorical_crossentropy',\n",
    "              optimizer=optimizers.Adam(learning_rate=1e-3),\n",
    "              metrics=['acc'])\n",
    "\n",
    "history_best = model_best.fit(\n",
    "      train_generator,\n",
    "      steps_per_epoch=train_generator.samples/train_generator.batch_size ,\n",
    "      epochs=20,\n",
    "      validation_data=validation_generator,\n",
    "      validation_steps=validation_generator.samples/validation_generator.batch_size,\n",
    ")\n",
    "print('Time taken: {:.1f} seconds'.format(time.time() - time1))   # to measure time taken\n",
    "print(\"[INFO] Model is trained.\")"
   ]
  },
  {
   "cell_type": "code",
   "execution_count": null,
   "metadata": {
    "colab": {
     "base_uri": "https://localhost:8080/"
    },
    "id": "h3FwEopkFUbA",
    "outputId": "1bd32b7c-35e6-4f71-9e6b-2e3057bb44b9"
   },
   "outputs": [
    {
     "name": "stdout",
     "output_type": "stream",
     "text": [
      "16/16 [==============================] - 2s 111ms/step - loss: 0.4789 - acc: 0.9405\n",
      "===Testing loss and accuracy===\n",
      "Test loss:  0.47893190383911133\n",
      "Test accuracy:  0.9404761791229248\n"
     ]
    }
   ],
   "source": [
    "score = model_best.evaluate(test_generator)\n",
    "\n",
    "print('===Testing loss and accuracy===')\n",
    "print('Test loss: ', score[0])\n",
    "print('Test accuracy: ', score[1])"
   ]
  },
  {
   "cell_type": "code",
   "execution_count": null,
   "metadata": {
    "colab": {
     "base_uri": "https://localhost:8080/",
     "height": 573
    },
    "id": "c_UT4jyMFX3R",
    "outputId": "c66a7e5c-a703-481b-8151-6c47bb796210"
   },
   "outputs": [
    {
     "data": {
      "image/png": "[encoded data removed]",
      "text/plain": [
       "<Figure size 432x288 with 1 Axes>"
      ]
     },
     "metadata": {
      "tags": []
     },
     "output_type": "display_data"
    },
    {
     "data": {
      "image/png": "[encoded data removed]",
      "text/plain": [
       "<Figure size 432x288 with 1 Axes>"
      ]
     },
     "metadata": {
      "tags": []
     },
     "output_type": "display_data"
    }
   ],
   "source": [
    "import matplotlib.pyplot as plot\n",
    "plot.plot(history_best.history['acc'])\n",
    "plot.plot(history_best.history['val_acc'])\n",
    "plot.title('Model accuracy')\n",
    "plot.ylabel('Accuracy')\n",
    "plot.xlabel('Epoch')\n",
    "plot.legend(['Train', 'Vall'], loc='upper left')\n",
    "plot.show()\n",
    "\n",
    "plot.plot(history_best.history['loss'])\n",
    "plot.plot(history_best.history['val_loss'])\n",
    "plot.title('Model loss')\n",
    "plot.ylabel('Loss')\n",
    "plot.xlabel('Epoch')\n",
    "plot.legend(['Train', 'Vall'], loc='upper left')\n",
    "plot.show()"
   ]
  }
 ],
 "metadata": {
  "colab": {
   "collapsed_sections": [],
   "name": "CNN_Best.ipynb",
   "provenance": []
  },
  "kernelspec": {
   "display_name": "Python 3",
   "language": "python",
   "name": "python3"
  },
  "language_info": {
   "codemirror_mode": {
    "name": "ipython",
    "version": 3
   },
   "file_extension": ".py",
   "mimetype": "text/x-python",
   "name": "python",
   "nbconvert_exporter": "python",
   "pygments_lexer": "ipython3",
   "version": "3.8.6"
  }
 },
 "nbformat": 4,
 "nbformat_minor": 1
}
