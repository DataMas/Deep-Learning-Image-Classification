{
 "cells": [
  {
   "cell_type": "markdown",
   "metadata": {
    "id": "syg2855SDckH"
   },
   "source": [
    "# Moount google drive to colab"
   ]
  },
  {
   "cell_type": "code",
   "execution_count": null,
   "metadata": {
    "colab": {
     "base_uri": "https://localhost:8080/"
    },
    "id": "tiv9adke9iFG",
    "outputId": "14861708-840c-407e-fcf3-9ed590eeff14"
   },
   "outputs": [
    {
     "name": "stdout",
     "output_type": "stream",
     "text": [
      "Mounted at /content/drive\n"
     ]
    }
   ],
   "source": [
    "from google.colab import drive\n",
    "drive.mount(\"/content/drive\")"
   ]
  },
  {
   "cell_type": "markdown",
   "metadata": {
    "id": "CxwGkQGQI7G5"
   },
   "source": [
    "# Import libraries"
   ]
  },
  {
   "cell_type": "code",
   "execution_count": null,
   "metadata": {
    "id": "Cury_DRDD10L"
   },
   "outputs": [],
   "source": [
    "import os\n",
    "import random \n",
    "import numpy as np\n",
    "import shutil\n",
    "import time \n",
    "from PIL import Image, ImageOps\n",
    "import cv2\n",
    "import pandas as pd\n",
    "import math\n",
    "\n",
    "import matplotlib.pyplot as plt\n",
    "import seaborn as sns\n",
    "sns.set_style('darkgrid')\n",
    "\n",
    "import tensorflow as tf\n",
    "\n",
    "from keras import models\n",
    "from keras import layers\n",
    "from keras import optimizers\n",
    "from keras.callbacks import EarlyStopping\n",
    "from keras.callbacks import ModelCheckpoint\n",
    "from keras.callbacks import LearningRateScheduler\n",
    "from keras.utils import np_utils\n",
    "\n",
    "\n",
    "from sklearn.metrics import confusion_matrix, classification_report\n",
    "from sklearn.preprocessing import LabelBinarizer\n",
    "from sklearn.preprocessing import MinMaxScaler\n",
    "from keras.preprocessing.image import ImageDataGenerator\n",
    "\n",
    "from keras import models, layers, optimizers\n",
    "from keras.callbacks import ModelCheckpoint\n",
    "from keras import losses"
   ]
  },
  {
   "cell_type": "markdown",
   "metadata": {
    "id": "bWXFQeJo-LNK"
   },
   "source": [
    "# Initialize basic working directories"
   ]
  },
  {
   "cell_type": "code",
   "execution_count": null,
   "metadata": {
    "id": "vsw2B8tpAPsS"
   },
   "outputs": [],
   "source": [
    "directory = \"drive/MyDrive/Datasets/Sign digits/Dataset\"\n",
    "trainDir = \"train\"\n",
    "testDir = \"test\"\n",
    "os.chdir(directory)"
   ]
  },
  {
   "cell_type": "markdown",
   "metadata": {
    "id": "53P0LzhlfwoZ"
   },
   "source": [
    "# Augmented dataframes"
   ]
  },
  {
   "cell_type": "code",
   "execution_count": null,
   "metadata": {
    "id": "51sm7pykKggt"
   },
   "outputs": [],
   "source": [
    "augDir = \"augmented/\"\n",
    "classNames_train = os.listdir(augDir+'train/')\n",
    "classNames_test = os.listdir(augDir+'test/')\n",
    "\n",
    "\n",
    "classes_train = []\n",
    "data_train = []\n",
    "paths_train = []\n",
    "\n",
    "classes_test = []\n",
    "data_test = []\n",
    "paths_test = []\n",
    "\n",
    "for className in range(0,10):\n",
    "  temp_train = os.listdir(augDir+'train/'+str(className))\n",
    "  temp_test = os.listdir(augDir+'test/'+str(className))\n",
    "\n",
    "  for dataFile in temp_train:\n",
    "    path_train = augDir+'train/'+str(className)+'/'+dataFile\n",
    "\n",
    "    paths_train.append(path_train)\n",
    "    classes_train .append(str(className))\n",
    " \n",
    "\n",
    "  for dataFile in temp_test:\n",
    "    path_test = augDir+'test/'+str(className)+'/'+dataFile\n",
    "\n",
    "    paths_test.append(path_test)\n",
    "    classes_test .append(str(className))\n",
    "\n",
    " \n",
    "augTrain_df = pd.DataFrame({'fileNames': paths_train, 'labels': classes_train})\n",
    "augTest_df = pd.DataFrame({'fileNames': paths_test, 'labels': classes_test})"
   ]
  },
  {
   "cell_type": "code",
   "execution_count": null,
   "metadata": {},
   "outputs": [],
   "source": [
    "train_df.head(10)"
   ]
  },
  {
   "cell_type": "code",
   "execution_count": null,
   "metadata": {},
   "outputs": [],
   "source": [
    "train_df['labels'].hist(figsize=(10,5))\n",
    "test_df['labels'].hist(figsize=(10,5))"
   ]
  },
  {
   "cell_type": "code",
   "execution_count": null,
   "metadata": {
    "id": "A0dNCb8mYksi"
   },
   "outputs": [],
   "source": [
    "from sklearn.model_selection import train_test_split\n",
    "train_df, val_df = train_test_split(train_df, train_size=0.8)"
   ]
  },
  {
   "cell_type": "code",
   "execution_count": null,
   "metadata": {
    "colab": {
     "base_uri": "https://localhost:8080/",
     "height": 337
    },
    "id": "UinSQ4IhZTnm",
    "outputId": "383af497-53ce-4129-807c-e790d2e52bcf"
   },
   "outputs": [
    {
     "data": {
      "text/plain": [
       "<matplotlib.axes._subplots.AxesSubplot at 0x7fe53f736290>"
      ]
     },
     "execution_count": 10,
     "metadata": {
      "tags": []
     },
     "output_type": "execute_result"
    },
    {
     "data": {
      "image/png": "[encoded data removed]",
      "text/plain": [
       "<Figure size 720x360 with 1 Axes>"
      ]
     },
     "metadata": {
      "tags": []
     },
     "output_type": "display_data"
    }
   ],
   "source": [
    "train_df['labels'].hist(figsize=(10,5))\n",
    "val_df['labels'].hist(figsize=(10,5))"
   ]
  },
  {
   "cell_type": "markdown",
   "metadata": {
    "id": "Po7KBqi-f10H"
   },
   "source": [
    "# Original dataframes\n"
   ]
  },
  {
   "cell_type": "code",
   "execution_count": null,
   "metadata": {
    "id": "Nf57Y652f3ZS"
   },
   "outputs": [],
   "source": [
    "oriDir = \"original/\"\n",
    "classNames_train = os.listdir(oriDir+'train/')\n",
    "classNames_test = os.listdir(oriDir+'test/')\n",
    "\n",
    "\n",
    "classes_train = []\n",
    "data_train = []\n",
    "paths_train = []\n",
    "\n",
    "classes_test = []\n",
    "data_test = []\n",
    "paths_test = []\n",
    "\n",
    "classes_val = []\n",
    "data_val = []\n",
    "paths_val = []\n",
    "\n",
    "for className in range(0,10):\n",
    "  temp_train = os.listdir(oriDir+'train/'+str(className))\n",
    "  temp_test = os.listdir(oriDir+'test/'+str(className))\n",
    "\n",
    "  for dataFile in temp_train:\n",
    "    path_train = oriDir+'train/'+str(className)+'/'+dataFile\n",
    "\n",
    "    paths_train.append(path_train)\n",
    "    classes_train .append(str(className))\n",
    " \n",
    "  testSize = [i for i in range(math.floor(len(temp_test)/2),len(temp_test))]\n",
    "  valSize = [i for i in range(0,math.floor(len(temp_test)/2))]\n",
    "  for dataFile in testSize:\n",
    "    path_test = oriDir+'test/'+str(className)+'/'+temp_test[dataFile]\n",
    "\n",
    "    paths_test.append(path_test)\n",
    "    classes_test .append(str(className))\n",
    "\n",
    "  for dataFile in valSize:\n",
    "    path_val = oriDir+'test/'+str(className)+'/'+temp_test[dataFile]\n",
    "\n",
    "    paths_val.append(path_val)\n",
    "    classes_val .append(str(className))\n",
    "\n",
    " \n",
    "originalTrain_df = pd.DataFrame({'fileNames': paths_train, 'labels': classes_train})\n",
    "originalTest_df = pd.DataFrame({'fileNames': paths_test, 'labels': classes_test})\n",
    "originalVal_df = pd.DataFrame({'fileNames': paths_val, 'labels': classes_val})"
   ]
  },
  {
   "cell_type": "code",
   "execution_count": null,
   "metadata": {
    "colab": {
     "base_uri": "https://localhost:8080/",
     "height": 363
    },
    "id": "89i_6EMlgo_o",
    "outputId": "29b68e86-9753-43da-d181-8aff183f62fc"
   },
   "outputs": [
    {
     "data": {
      "text/html": [
       "<div>\n",
       "<style scoped>\n",
       "    .dataframe tbody tr th:only-of-type {\n",
       "        vertical-align: middle;\n",
       "    }\n",
       "\n",
       "    .dataframe tbody tr th {\n",
       "        vertical-align: top;\n",
       "    }\n",
       "\n",
       "    .dataframe thead th {\n",
       "        text-align: right;\n",
       "    }\n",
       "</style>\n",
       "<table border=\"1\" class=\"dataframe\">\n",
       "  <thead>\n",
       "    <tr style=\"text-align: right;\">\n",
       "      <th></th>\n",
       "      <th>fileNames</th>\n",
       "      <th>labels</th>\n",
       "    </tr>\n",
       "  </thead>\n",
       "  <tbody>\n",
       "    <tr>\n",
       "      <th>0</th>\n",
       "      <td>original/test/0/IMG_5537.JPG</td>\n",
       "      <td>0</td>\n",
       "    </tr>\n",
       "    <tr>\n",
       "      <th>1</th>\n",
       "      <td>original/test/0/IMG_5042.JPG</td>\n",
       "      <td>0</td>\n",
       "    </tr>\n",
       "    <tr>\n",
       "      <th>2</th>\n",
       "      <td>original/test/0/IMG_5816.JPG</td>\n",
       "      <td>0</td>\n",
       "    </tr>\n",
       "    <tr>\n",
       "      <th>3</th>\n",
       "      <td>original/test/0/IMG_1169.JPG</td>\n",
       "      <td>0</td>\n",
       "    </tr>\n",
       "    <tr>\n",
       "      <th>4</th>\n",
       "      <td>original/test/0/IMG_4986.JPG</td>\n",
       "      <td>0</td>\n",
       "    </tr>\n",
       "    <tr>\n",
       "      <th>5</th>\n",
       "      <td>original/test/0/IMG_4996.JPG</td>\n",
       "      <td>0</td>\n",
       "    </tr>\n",
       "    <tr>\n",
       "      <th>6</th>\n",
       "      <td>original/test/0/IMG_5446.JPG</td>\n",
       "      <td>0</td>\n",
       "    </tr>\n",
       "    <tr>\n",
       "      <th>7</th>\n",
       "      <td>original/test/0/IMG_4316.JPG</td>\n",
       "      <td>0</td>\n",
       "    </tr>\n",
       "    <tr>\n",
       "      <th>8</th>\n",
       "      <td>original/test/0/IMG_5796.JPG</td>\n",
       "      <td>0</td>\n",
       "    </tr>\n",
       "    <tr>\n",
       "      <th>9</th>\n",
       "      <td>original/test/0/IMG_5318.JPG</td>\n",
       "      <td>0</td>\n",
       "    </tr>\n",
       "  </tbody>\n",
       "</table>\n",
       "</div>"
      ],
      "text/plain": [
       "                      fileNames labels\n",
       "0  original/test/0/IMG_5537.JPG      0\n",
       "1  original/test/0/IMG_5042.JPG      0\n",
       "2  original/test/0/IMG_5816.JPG      0\n",
       "3  original/test/0/IMG_1169.JPG      0\n",
       "4  original/test/0/IMG_4986.JPG      0\n",
       "5  original/test/0/IMG_4996.JPG      0\n",
       "6  original/test/0/IMG_5446.JPG      0\n",
       "7  original/test/0/IMG_4316.JPG      0\n",
       "8  original/test/0/IMG_5796.JPG      0\n",
       "9  original/test/0/IMG_5318.JPG      0"
      ]
     },
     "execution_count": 6,
     "metadata": {
      "tags": []
     },
     "output_type": "execute_result"
    }
   ],
   "source": [
    "originalVal_df.head(10)"
   ]
  },
  {
   "cell_type": "markdown",
   "metadata": {
    "id": "zF6Fb9b7ly5D"
   },
   "source": [
    "Check if the dataframes are balanced"
   ]
  },
  {
   "cell_type": "code",
   "execution_count": null,
   "metadata": {
    "colab": {
     "base_uri": "https://localhost:8080/",
     "height": 338
    },
    "id": "h9KmAHSQgtqi",
    "outputId": "e9d80290-60a3-4778-cbbe-6ae561446052"
   },
   "outputs": [
    {
     "data": {
      "text/plain": [
       "<matplotlib.axes._subplots.AxesSubplot at 0x7f5284eb1c50>"
      ]
     },
     "execution_count": 7,
     "metadata": {
      "tags": []
     },
     "output_type": "execute_result"
    },
    {
     "data": {
      "image/png": "[encoded data removed]",
      "text/plain": [
       "<Figure size 720x360 with 1 Axes>"
      ]
     },
     "metadata": {
      "tags": []
     },
     "output_type": "display_data"
    }
   ],
   "source": [
    "originalTrain_df['labels'].hist(figsize=(10,5))\n",
    "originalTest_df['labels'].hist(figsize=(10,5))"
   ]
  },
  {
   "cell_type": "code",
   "execution_count": null,
   "metadata": {
    "colab": {
     "base_uri": "https://localhost:8080/",
     "height": 338
    },
    "id": "4I2GlVmsg2EU",
    "outputId": "1ab9d3e5-0d76-487e-f8bf-3af7a052657e"
   },
   "outputs": [
    {
     "data": {
      "text/plain": [
       "<matplotlib.axes._subplots.AxesSubplot at 0x7f5284dc1e50>"
      ]
     },
     "execution_count": 8,
     "metadata": {
      "tags": []
     },
     "output_type": "execute_result"
    },
    {
     "data": {
      "image/png": "[encoded data removed]",
      "text/plain": [
       "<Figure size 720x360 with 1 Axes>"
      ]
     },
     "metadata": {
      "tags": []
     },
     "output_type": "display_data"
    }
   ],
   "source": [
    "originalTest_df['labels'].hist(figsize=(10,5))\n",
    "originalVal_df['labels'].hist(figsize=(10,5))"
   ]
  },
  {
   "cell_type": "markdown",
   "metadata": {
    "id": "-DLzlfOXl216"
   },
   "source": [
    "# Import original dataset "
   ]
  },
  {
   "cell_type": "code",
   "execution_count": null,
   "metadata": {
    "colab": {
     "base_uri": "https://localhost:8080/",
     "height": 93
    },
    "id": "GH5ZN3cFP0Ps",
    "outputId": "18f83e5f-4db6-49d4-d620-a3e696ede69b"
   },
   "outputs": [
    {
     "name": "stderr",
     "output_type": "stream",
     "text": [
      "/usr/local/lib/python3.7/dist-packages/ipykernel_launcher.py:37: VisibleDeprecationWarning: Creating an ndarray from ragged nested sequences (which is a list-or-tuple of lists-or-tuples-or ndarrays with different lengths or shapes) is deprecated. If you meant to do this, you must specify 'dtype=object' when creating the ndarray\n",
      "/usr/local/lib/python3.7/dist-packages/ipykernel_launcher.py:39: VisibleDeprecationWarning: Creating an ndarray from ragged nested sequences (which is a list-or-tuple of lists-or-tuples-or ndarrays with different lengths or shapes) is deprecated. If you meant to do this, you must specify 'dtype=object' when creating the ndarray\n"
     ]
    },
    {
     "data": {
      "application/vnd.google.colaboratory.intrinsic+json": {
       "type": "string"
      },
      "text/plain": [
       "'\\n# OneHot Encode the Output\\noriginalTrainY = np_utils.to_categorical(originalTrainY, 10)\\n#originalTestY = np_utils.to_categorical(originalTestY, 10)\\noriginalValY = np_utils.to_categorical(originalValY, 10)\\n'"
      ]
     },
     "execution_count": 14,
     "metadata": {
      "tags": []
     },
     "output_type": "execute_result"
    }
   ],
   "source": [
    "originalTrainX=[]\n",
    "originalTrainY=[]\n",
    "originalTestX=[]\n",
    "originalTestY=[]\n",
    "originalValX=[]\n",
    "originalValY=[]\n",
    "\n",
    "iter = -1\n",
    "\n",
    "#read images from train set\n",
    "for path in originalTrain_df['fileNames']:\n",
    "    iter = iter + 1\n",
    "    #image = np.array((Image.open(path)))\n",
    "    image = cv2.imread(path)\n",
    "    originalTrainX.append(image)\n",
    "    label = originalTrain_df['labels'][iter]\n",
    "    originalTrainY.append(label)\n",
    "\n",
    "iter = -1\n",
    "\n",
    "for path in originalTest_df['fileNames']:\n",
    "    iter = iter + 1\n",
    "    #image = np.array((Image.open(path)))\n",
    "    image = cv2.imread(path)\n",
    "    originalTestX.append(image)\n",
    "    originalTestY.append(originalTest_df['labels'][iter])\n",
    "\n",
    "iter = -1\n",
    "\n",
    "for path in originalVal_df['fileNames']:\n",
    "    iter = iter + 1\n",
    "    #image = np.array((Image.open(path)))\n",
    "    image = cv2.imread(path)\n",
    "    originalValX.append(image)\n",
    "    originalValY.append(originalVal_df['labels'][iter])\n",
    "\n",
    "originalTrainX = np.array(originalTrainX)\n",
    "originalTestX = np.array(originalTestX)\n",
    "originalValX = np.array(originalValX)\n",
    "\n",
    "    \n",
    "originalTrainX = originalTrainX / 255\n",
    "originalTestX = originalTestX / 255\n",
    "originalValX = originalValX / 255"
   ]
  },
  {
   "cell_type": "markdown",
   "metadata": {
    "id": "Irc0Zuiy_04T"
   },
   "source": [
    "# Exercise 2.a | Simple CNN"
   ]
  },
  {
   "cell_type": "code",
   "execution_count": null,
   "metadata": {
    "colab": {
     "base_uri": "https://localhost:8080/"
    },
    "id": "ilb1dEprloiK",
    "outputId": "070bf7d0-c791-4459-f3bb-7d9540cec649"
   },
   "outputs": [
    {
     "name": "stdout",
     "output_type": "stream",
     "text": [
      "Found 1562 validated image filenames belonging to 10 classes.\n",
      "Found 252 validated image filenames belonging to 10 classes.\n",
      "Found 252 validated image filenames belonging to 10 classes.\n"
     ]
    }
   ],
   "source": [
    "train_datagen = ImageDataGenerator(rescale=1./255)\n",
    "validation_datagen = ImageDataGenerator(rescale=1./255)\n",
    "test_datagen = ImageDataGenerator(rescale=1./255)\n",
    "\n",
    "train_generator = train_datagen.flow_from_dataframe(dataframe=originalTrain_df,\n",
    "                                                    x_col=\"fileNames\",\n",
    "                                                    y_col=\"labels\",\n",
    "                                                    batch_size=16,\n",
    "                                                    class_mode=\"categorical\",\n",
    "                                                    #color_mode=\"grayscale\",\n",
    "                                                    target_size=(100,100),\n",
    "                                                    shuffle=True)\n",
    "\n",
    "validation_generator = validation_datagen.flow_from_dataframe(dataframe=originalVal_df,\n",
    "                                                    x_col=\"fileNames\",\n",
    "                                                    y_col=\"labels\",\n",
    "                                                    batch_size=16,\n",
    "                                                    class_mode=\"categorical\",\n",
    "                                                    #color_mode=\"grayscale\",\n",
    "                                                    target_size=(100,100),\n",
    "                                                    shuffle=True)\n",
    "\n",
    "test_generator = test_datagen.flow_from_dataframe(dataframe=originalTest_df,\n",
    "                                                    x_col=\"fileNames\",\n",
    "                                                    y_col=\"labels\",\n",
    "                                                    batch_size=16,\n",
    "                                                    class_mode=\"categorical\",\n",
    "                                                    #color_mode=\"grayscale\",\n",
    "                                                    target_size=(100,100),\n",
    "                                                    shuffle=True)"
   ]
  },
  {
   "cell_type": "code",
   "execution_count": null,
   "metadata": {
    "colab": {
     "base_uri": "https://localhost:8080/"
    },
    "id": "eoYnqMgV6Bu-",
    "outputId": "20262650-1f70-4e21-e45f-239479777c06"
   },
   "outputs": [
    {
     "name": "stdout",
     "output_type": "stream",
     "text": [
      "Model: \"sequential_1\"\n",
      "_________________________________________________________________\n",
      "Layer (type)                 Output Shape              Param #   \n",
      "=================================================================\n",
      "conv2d_2 (Conv2D)            (None, 100, 100, 64)      1792      \n",
      "_________________________________________________________________\n",
      "max_pooling2d_2 (MaxPooling2 (None, 50, 50, 64)        0         \n",
      "_________________________________________________________________\n",
      "conv2d_3 (Conv2D)            (None, 50, 50, 32)        18464     \n",
      "_________________________________________________________________\n",
      "max_pooling2d_3 (MaxPooling2 (None, 25, 25, 32)        0         \n",
      "_________________________________________________________________\n",
      "flatten_1 (Flatten)          (None, 20000)             0         \n",
      "_________________________________________________________________\n",
      "dense_2 (Dense)              (None, 128)               2560128   \n",
      "_________________________________________________________________\n",
      "dense_3 (Dense)              (None, 10)                1290      \n",
      "=================================================================\n",
      "Total params: 2,581,674\n",
      "Trainable params: 2,581,674\n",
      "Non-trainable params: 0\n",
      "_________________________________________________________________\n"
     ]
    }
   ],
   "source": [
    "model = models.Sequential()\n",
    "\n",
    "model.add(layers.Conv2D(64, (3,3), input_shape=(100, 100, 3), padding='same', activation='relu'))\n",
    "model.add(layers.MaxPooling2D(pool_size=(2,2)))\n",
    "model.add(layers.Conv2D(32, (3,3), input_shape=(100, 100, 3), padding='same', activation='relu'))\n",
    "model.add(layers.MaxPooling2D(pool_size=(2,2)))\n",
    "model.add(layers.Flatten())\n",
    "model.add(layers.Dense(128, activation='relu'))\n",
    "model.add(layers.Dense(10, activation='softmax'))\n",
    "\n",
    "model.summary()"
   ]
  },
  {
   "cell_type": "code",
   "execution_count": null,
   "metadata": {
    "colab": {
     "base_uri": "https://localhost:8080/"
    },
    "id": "7NJNZSWT8Lks",
    "outputId": "c51a8d32-5b6b-4023-ba8d-8e46149a6546"
   },
   "outputs": [
    {
     "name": "stdout",
     "output_type": "stream",
     "text": [
      "[INFO] Model is training...\n",
      "Epoch 1/100\n",
      "97/97 [==============================] - 6s 53ms/step - loss: 2.2199 - acc: 0.2027 - val_loss: 0.9514 - val_acc: 0.7222\n",
      "Epoch 2/100\n",
      "97/97 [==============================] - 5s 48ms/step - loss: 0.8417 - acc: 0.7169 - val_loss: 0.7187 - val_acc: 0.8056\n",
      "Epoch 3/100\n",
      "97/97 [==============================] - 5s 48ms/step - loss: 0.5178 - acc: 0.8333 - val_loss: 0.5953 - val_acc: 0.8135\n",
      "Epoch 4/100\n",
      "97/97 [==============================] - 5s 48ms/step - loss: 0.4457 - acc: 0.8397 - val_loss: 0.6280 - val_acc: 0.7976\n",
      "Epoch 5/100\n",
      "97/97 [==============================] - 5s 49ms/step - loss: 0.3309 - acc: 0.8978 - val_loss: 0.6414 - val_acc: 0.8294\n",
      "Epoch 6/100\n",
      "97/97 [==============================] - 5s 48ms/step - loss: 0.2326 - acc: 0.9331 - val_loss: 0.5590 - val_acc: 0.8294\n",
      "Epoch 7/100\n",
      "97/97 [==============================] - 5s 49ms/step - loss: 0.1761 - acc: 0.9436 - val_loss: 0.5895 - val_acc: 0.8214\n",
      "Epoch 8/100\n",
      "97/97 [==============================] - 5s 48ms/step - loss: 0.1099 - acc: 0.9729 - val_loss: 0.6334 - val_acc: 0.8452\n",
      "Epoch 9/100\n",
      "97/97 [==============================] - 5s 48ms/step - loss: 0.0601 - acc: 0.9883 - val_loss: 0.5784 - val_acc: 0.7937\n",
      "Epoch 10/100\n",
      "97/97 [==============================] - 5s 48ms/step - loss: 0.0806 - acc: 0.9800 - val_loss: 0.7870 - val_acc: 0.7937\n",
      "Epoch 11/100\n",
      "97/97 [==============================] - 5s 48ms/step - loss: 0.0787 - acc: 0.9763 - val_loss: 0.5131 - val_acc: 0.8611\n",
      "Epoch 12/100\n",
      "97/97 [==============================] - 5s 48ms/step - loss: 0.0257 - acc: 0.9955 - val_loss: 0.6282 - val_acc: 0.8651\n",
      "Epoch 13/100\n",
      "97/97 [==============================] - 5s 49ms/step - loss: 0.0155 - acc: 0.9967 - val_loss: 0.6258 - val_acc: 0.8889\n",
      "Epoch 14/100\n",
      "97/97 [==============================] - 5s 48ms/step - loss: 0.0042 - acc: 1.0000 - val_loss: 0.6243 - val_acc: 0.8611\n",
      "Epoch 15/100\n",
      "97/97 [==============================] - 5s 48ms/step - loss: 0.0025 - acc: 1.0000 - val_loss: 0.6587 - val_acc: 0.8770\n",
      "Epoch 16/100\n",
      "97/97 [==============================] - 5s 48ms/step - loss: 0.0018 - acc: 1.0000 - val_loss: 0.6859 - val_acc: 0.8849\n",
      "Epoch 17/100\n",
      "97/97 [==============================] - 5s 48ms/step - loss: 0.0013 - acc: 1.0000 - val_loss: 0.6899 - val_acc: 0.8730\n",
      "Epoch 18/100\n",
      "97/97 [==============================] - 5s 49ms/step - loss: 0.0011 - acc: 1.0000 - val_loss: 0.7386 - val_acc: 0.8849\n",
      "Epoch 19/100\n",
      "97/97 [==============================] - 5s 48ms/step - loss: 9.7176e-04 - acc: 1.0000 - val_loss: 0.7417 - val_acc: 0.8730\n",
      "Epoch 20/100\n",
      "97/97 [==============================] - 5s 48ms/step - loss: 6.7983e-04 - acc: 1.0000 - val_loss: 0.7594 - val_acc: 0.8730\n",
      "Epoch 21/100\n",
      "97/97 [==============================] - 5s 48ms/step - loss: 5.5889e-04 - acc: 1.0000 - val_loss: 0.7979 - val_acc: 0.8770\n",
      "Epoch 22/100\n",
      "97/97 [==============================] - 5s 48ms/step - loss: 4.4667e-04 - acc: 1.0000 - val_loss: 0.8055 - val_acc: 0.8730\n",
      "Epoch 23/100\n",
      "97/97 [==============================] - 5s 48ms/step - loss: 4.6751e-04 - acc: 1.0000 - val_loss: 0.8371 - val_acc: 0.8770\n",
      "Epoch 24/100\n",
      "97/97 [==============================] - 5s 48ms/step - loss: 3.4668e-04 - acc: 1.0000 - val_loss: 0.8531 - val_acc: 0.8730\n",
      "Epoch 25/100\n",
      "97/97 [==============================] - 5s 48ms/step - loss: 3.4266e-04 - acc: 1.0000 - val_loss: 0.8691 - val_acc: 0.8690\n",
      "Epoch 26/100\n",
      "97/97 [==============================] - 5s 49ms/step - loss: 2.8095e-04 - acc: 1.0000 - val_loss: 0.9283 - val_acc: 0.8889\n",
      "Epoch 27/100\n",
      "97/97 [==============================] - 5s 48ms/step - loss: 2.0184e-04 - acc: 1.0000 - val_loss: 0.8929 - val_acc: 0.8690\n",
      "Epoch 28/100\n",
      "97/97 [==============================] - 5s 47ms/step - loss: 1.9234e-04 - acc: 1.0000 - val_loss: 0.9474 - val_acc: 0.8730\n",
      "Epoch 29/100\n",
      "97/97 [==============================] - 5s 49ms/step - loss: 1.8624e-04 - acc: 1.0000 - val_loss: 0.9023 - val_acc: 0.8651\n",
      "Epoch 30/100\n",
      "97/97 [==============================] - 5s 49ms/step - loss: 1.6338e-04 - acc: 1.0000 - val_loss: 0.9573 - val_acc: 0.8690\n",
      "Epoch 31/100\n",
      "97/97 [==============================] - 5s 47ms/step - loss: 1.3742e-04 - acc: 1.0000 - val_loss: 0.9379 - val_acc: 0.8611\n",
      "Epoch 32/100\n",
      "97/97 [==============================] - 5s 48ms/step - loss: 1.1419e-04 - acc: 1.0000 - val_loss: 0.9669 - val_acc: 0.8651\n",
      "Epoch 33/100\n",
      "97/97 [==============================] - 5s 48ms/step - loss: 1.0627e-04 - acc: 1.0000 - val_loss: 0.9634 - val_acc: 0.8651\n",
      "Epoch 34/100\n",
      "97/97 [==============================] - 5s 48ms/step - loss: 1.0718e-04 - acc: 1.0000 - val_loss: 1.0424 - val_acc: 0.8730\n",
      "Epoch 35/100\n",
      "97/97 [==============================] - 5s 47ms/step - loss: 1.0572e-04 - acc: 1.0000 - val_loss: 1.0250 - val_acc: 0.8730\n",
      "Epoch 36/100\n",
      "97/97 [==============================] - 5s 48ms/step - loss: 8.1134e-05 - acc: 1.0000 - val_loss: 1.0299 - val_acc: 0.8651\n",
      "Epoch 37/100\n",
      "97/97 [==============================] - 5s 48ms/step - loss: 7.9414e-05 - acc: 1.0000 - val_loss: 1.0502 - val_acc: 0.8730\n",
      "Epoch 38/100\n",
      "97/97 [==============================] - 5s 48ms/step - loss: 7.3426e-05 - acc: 1.0000 - val_loss: 1.0753 - val_acc: 0.8690\n",
      "Epoch 39/100\n",
      "97/97 [==============================] - 5s 49ms/step - loss: 6.5880e-05 - acc: 1.0000 - val_loss: 1.0895 - val_acc: 0.8730\n",
      "Epoch 40/100\n",
      "97/97 [==============================] - 5s 48ms/step - loss: 4.8112e-05 - acc: 1.0000 - val_loss: 1.1244 - val_acc: 0.8730\n",
      "Epoch 41/100\n",
      "97/97 [==============================] - 5s 48ms/step - loss: 4.8400e-05 - acc: 1.0000 - val_loss: 1.0633 - val_acc: 0.8611\n",
      "Epoch 42/100\n",
      "97/97 [==============================] - 5s 48ms/step - loss: 5.3012e-05 - acc: 1.0000 - val_loss: 1.1203 - val_acc: 0.8690\n",
      "Epoch 43/100\n",
      "97/97 [==============================] - 5s 48ms/step - loss: 4.3973e-05 - acc: 1.0000 - val_loss: 1.1588 - val_acc: 0.8690\n",
      "Epoch 44/100\n",
      "97/97 [==============================] - 5s 48ms/step - loss: 4.4361e-05 - acc: 1.0000 - val_loss: 1.0672 - val_acc: 0.8611\n",
      "Epoch 45/100\n",
      "97/97 [==============================] - 5s 49ms/step - loss: 3.9284e-05 - acc: 1.0000 - val_loss: 1.1444 - val_acc: 0.8611\n",
      "Epoch 46/100\n",
      "97/97 [==============================] - 5s 48ms/step - loss: 3.1867e-05 - acc: 1.0000 - val_loss: 1.1534 - val_acc: 0.8651\n",
      "Epoch 47/100\n",
      "97/97 [==============================] - 5s 48ms/step - loss: 3.1667e-05 - acc: 1.0000 - val_loss: 1.2093 - val_acc: 0.8651\n",
      "Epoch 48/100\n",
      "97/97 [==============================] - 5s 49ms/step - loss: 2.8978e-05 - acc: 1.0000 - val_loss: 1.2004 - val_acc: 0.8730\n",
      "Epoch 49/100\n",
      "97/97 [==============================] - 5s 48ms/step - loss: 2.8356e-05 - acc: 1.0000 - val_loss: 1.1671 - val_acc: 0.8651\n",
      "Epoch 50/100\n",
      "97/97 [==============================] - 5s 48ms/step - loss: 2.8147e-05 - acc: 1.0000 - val_loss: 1.2215 - val_acc: 0.8690\n",
      "Epoch 51/100\n",
      "97/97 [==============================] - 5s 48ms/step - loss: 2.4188e-05 - acc: 1.0000 - val_loss: 1.1892 - val_acc: 0.8651\n",
      "Epoch 52/100\n",
      "97/97 [==============================] - 5s 48ms/step - loss: 2.5134e-05 - acc: 1.0000 - val_loss: 1.2113 - val_acc: 0.8651\n",
      "Epoch 53/100\n",
      "97/97 [==============================] - 5s 48ms/step - loss: 1.7609e-05 - acc: 1.0000 - val_loss: 1.2405 - val_acc: 0.8651\n",
      "Epoch 54/100\n",
      "97/97 [==============================] - 5s 48ms/step - loss: 1.6363e-05 - acc: 1.0000 - val_loss: 1.2667 - val_acc: 0.8651\n",
      "Epoch 55/100\n",
      "97/97 [==============================] - 5s 50ms/step - loss: 1.8940e-05 - acc: 1.0000 - val_loss: 1.2898 - val_acc: 0.8690\n",
      "Epoch 56/100\n",
      "97/97 [==============================] - 5s 49ms/step - loss: 1.4102e-05 - acc: 1.0000 - val_loss: 1.3041 - val_acc: 0.8651\n",
      "Epoch 57/100\n",
      "97/97 [==============================] - 5s 48ms/step - loss: 1.4088e-05 - acc: 1.0000 - val_loss: 1.2924 - val_acc: 0.8690\n",
      "Epoch 58/100\n",
      "97/97 [==============================] - 5s 48ms/step - loss: 1.3259e-05 - acc: 1.0000 - val_loss: 1.3309 - val_acc: 0.8730\n",
      "Epoch 59/100\n",
      "97/97 [==============================] - 5s 47ms/step - loss: 1.2548e-05 - acc: 1.0000 - val_loss: 1.3184 - val_acc: 0.8690\n",
      "Epoch 60/100\n",
      "97/97 [==============================] - 5s 48ms/step - loss: 1.1854e-05 - acc: 1.0000 - val_loss: 1.3635 - val_acc: 0.8730\n",
      "Epoch 61/100\n",
      "97/97 [==============================] - 5s 49ms/step - loss: 1.0118e-05 - acc: 1.0000 - val_loss: 1.3535 - val_acc: 0.8730\n",
      "Epoch 62/100\n",
      "97/97 [==============================] - 5s 48ms/step - loss: 9.1528e-06 - acc: 1.0000 - val_loss: 1.3688 - val_acc: 0.8690\n",
      "Epoch 63/100\n",
      "97/97 [==============================] - 5s 48ms/step - loss: 9.4634e-06 - acc: 1.0000 - val_loss: 1.3762 - val_acc: 0.8690\n",
      "Epoch 64/100\n",
      "97/97 [==============================] - 5s 49ms/step - loss: 8.3181e-06 - acc: 1.0000 - val_loss: 1.4144 - val_acc: 0.8690\n",
      "Epoch 65/100\n",
      "97/97 [==============================] - 5s 50ms/step - loss: 7.4773e-06 - acc: 1.0000 - val_loss: 1.3598 - val_acc: 0.8651\n",
      "Epoch 66/100\n",
      "97/97 [==============================] - 5s 50ms/step - loss: 6.8571e-06 - acc: 1.0000 - val_loss: 1.3712 - val_acc: 0.8651\n",
      "Epoch 67/100\n",
      "97/97 [==============================] - 5s 49ms/step - loss: 7.3161e-06 - acc: 1.0000 - val_loss: 1.4099 - val_acc: 0.8651\n",
      "Epoch 68/100\n",
      "97/97 [==============================] - 5s 49ms/step - loss: 8.0837e-06 - acc: 1.0000 - val_loss: 1.4279 - val_acc: 0.8651\n",
      "Epoch 69/100\n",
      "97/97 [==============================] - 5s 48ms/step - loss: 5.9650e-06 - acc: 1.0000 - val_loss: 1.4143 - val_acc: 0.8651\n",
      "Epoch 70/100\n",
      "97/97 [==============================] - 5s 48ms/step - loss: 6.6888e-06 - acc: 1.0000 - val_loss: 1.4513 - val_acc: 0.8611\n",
      "Epoch 71/100\n",
      "97/97 [==============================] - 5s 49ms/step - loss: 6.0937e-06 - acc: 1.0000 - val_loss: 1.4750 - val_acc: 0.8651\n",
      "Epoch 72/100\n",
      "97/97 [==============================] - 5s 48ms/step - loss: 5.3794e-06 - acc: 1.0000 - val_loss: 1.4673 - val_acc: 0.8611\n",
      "Epoch 73/100\n",
      "97/97 [==============================] - 5s 48ms/step - loss: 4.5245e-06 - acc: 1.0000 - val_loss: 1.4274 - val_acc: 0.8651\n",
      "Epoch 74/100\n",
      "97/97 [==============================] - 5s 49ms/step - loss: 4.4671e-06 - acc: 1.0000 - val_loss: 1.4608 - val_acc: 0.8651\n",
      "Epoch 75/100\n",
      "97/97 [==============================] - 5s 49ms/step - loss: 4.7209e-06 - acc: 1.0000 - val_loss: 1.4664 - val_acc: 0.8611\n",
      "Epoch 76/100\n",
      "97/97 [==============================] - 5s 49ms/step - loss: 4.0391e-06 - acc: 1.0000 - val_loss: 1.4982 - val_acc: 0.8611\n",
      "Epoch 77/100\n",
      "97/97 [==============================] - 5s 48ms/step - loss: 4.1508e-06 - acc: 1.0000 - val_loss: 1.4688 - val_acc: 0.8611\n",
      "Epoch 78/100\n",
      "97/97 [==============================] - 5s 49ms/step - loss: 2.9801e-06 - acc: 1.0000 - val_loss: 1.5488 - val_acc: 0.8651\n",
      "Epoch 79/100\n",
      "97/97 [==============================] - 5s 48ms/step - loss: 2.9281e-06 - acc: 1.0000 - val_loss: 1.5224 - val_acc: 0.8611\n",
      "Epoch 80/100\n",
      "97/97 [==============================] - 5s 49ms/step - loss: 2.8643e-06 - acc: 1.0000 - val_loss: 1.5184 - val_acc: 0.8651\n",
      "Epoch 81/100\n",
      "97/97 [==============================] - 5s 49ms/step - loss: 3.3563e-06 - acc: 1.0000 - val_loss: 1.5244 - val_acc: 0.8651\n",
      "Epoch 82/100\n",
      "97/97 [==============================] - 5s 48ms/step - loss: 2.9686e-06 - acc: 1.0000 - val_loss: 1.5851 - val_acc: 0.8651\n",
      "Epoch 83/100\n",
      "97/97 [==============================] - 5s 48ms/step - loss: 2.3001e-06 - acc: 1.0000 - val_loss: 1.5198 - val_acc: 0.8651\n",
      "Epoch 84/100\n",
      "97/97 [==============================] - 5s 48ms/step - loss: 2.4721e-06 - acc: 1.0000 - val_loss: 1.5435 - val_acc: 0.8611\n",
      "Epoch 85/100\n",
      "97/97 [==============================] - 5s 48ms/step - loss: 2.0632e-06 - acc: 1.0000 - val_loss: 1.5564 - val_acc: 0.8611\n",
      "Epoch 86/100\n",
      "97/97 [==============================] - 5s 48ms/step - loss: 2.3162e-06 - acc: 1.0000 - val_loss: 1.5524 - val_acc: 0.8611\n",
      "Epoch 87/100\n",
      "97/97 [==============================] - 5s 48ms/step - loss: 1.8208e-06 - acc: 1.0000 - val_loss: 1.6169 - val_acc: 0.8611\n",
      "Epoch 88/100\n",
      "97/97 [==============================] - 5s 48ms/step - loss: 2.0806e-06 - acc: 1.0000 - val_loss: 1.5969 - val_acc: 0.8611\n",
      "Epoch 89/100\n",
      "97/97 [==============================] - 5s 49ms/step - loss: 1.6722e-06 - acc: 1.0000 - val_loss: 1.5880 - val_acc: 0.8611\n",
      "Epoch 90/100\n",
      "97/97 [==============================] - 5s 48ms/step - loss: 1.6569e-06 - acc: 1.0000 - val_loss: 1.6361 - val_acc: 0.8611\n",
      "Epoch 91/100\n",
      "97/97 [==============================] - 5s 48ms/step - loss: 1.4975e-06 - acc: 1.0000 - val_loss: 1.6275 - val_acc: 0.8611\n",
      "Epoch 92/100\n",
      "97/97 [==============================] - 5s 48ms/step - loss: 1.5802e-06 - acc: 1.0000 - val_loss: 1.6539 - val_acc: 0.8571\n",
      "Epoch 93/100\n",
      "97/97 [==============================] - 5s 49ms/step - loss: 1.4324e-06 - acc: 1.0000 - val_loss: 1.6237 - val_acc: 0.8611\n",
      "Epoch 94/100\n",
      "97/97 [==============================] - 5s 48ms/step - loss: 1.5716e-06 - acc: 1.0000 - val_loss: 1.6430 - val_acc: 0.8611\n",
      "Epoch 95/100\n",
      "97/97 [==============================] - 5s 48ms/step - loss: 1.3070e-06 - acc: 1.0000 - val_loss: 1.6868 - val_acc: 0.8571\n",
      "Epoch 96/100\n",
      "97/97 [==============================] - 5s 48ms/step - loss: 1.1576e-06 - acc: 1.0000 - val_loss: 1.6467 - val_acc: 0.8611\n",
      "Epoch 97/100\n",
      "97/97 [==============================] - 5s 48ms/step - loss: 1.0612e-06 - acc: 1.0000 - val_loss: 1.6621 - val_acc: 0.8571\n",
      "Epoch 98/100\n",
      "97/97 [==============================] - 5s 48ms/step - loss: 9.3119e-07 - acc: 1.0000 - val_loss: 1.7025 - val_acc: 0.8571\n",
      "Epoch 99/100\n",
      "97/97 [==============================] - 5s 48ms/step - loss: 1.0173e-06 - acc: 1.0000 - val_loss: 1.7030 - val_acc: 0.8571\n",
      "Epoch 100/100\n",
      "97/97 [==============================] - 5s 48ms/step - loss: 9.3577e-07 - acc: 1.0000 - val_loss: 1.7356 - val_acc: 0.8571\n",
      "Time taken: 474.6 seconds\n",
      "[INFO] Model is trained.\n"
     ]
    }
   ],
   "source": [
    "print(\"[INFO] Model is training...\")\n",
    "time1 = time.time()   # to measure time taken\n",
    "# Compile the model\n",
    "model.compile(loss='categorical_crossentropy',\n",
    "              optimizer=optimizers.Adam(learning_rate=1e-3),\n",
    "              metrics=['acc'])\n",
    "\n",
    "history = model.fit(\n",
    "      train_generator,\n",
    "      steps_per_epoch=train_generator.samples/train_generator.batch_size ,\n",
    "      epochs=100,\n",
    "      validation_data=validation_generator,\n",
    "      validation_steps=validation_generator.samples/validation_generator.batch_size,\n",
    ")\n",
    "print('Time taken: {:.1f} seconds'.format(time.time() - time1))   # to measure time taken\n",
    "print(\"[INFO] Model is trained.\")"
   ]
  },
  {
   "cell_type": "code",
   "execution_count": null,
   "metadata": {
    "colab": {
     "base_uri": "https://localhost:8080/",
     "height": 573
    },
    "id": "m-4qJYtF_pU0",
    "outputId": "ada9803c-a557-46f2-b450-d4bf5f4cf565"
   },
   "outputs": [
    {
     "data": {
      "image/png": "[encoded data removed]",
      "text/plain": [
       "<Figure size 432x288 with 1 Axes>"
      ]
     },
     "metadata": {
      "tags": []
     },
     "output_type": "display_data"
    },
    {
     "data": {
      "image/png": "[encoded data removed]",
      "text/plain": [
       "<Figure size 432x288 with 1 Axes>"
      ]
     },
     "metadata": {
      "tags": []
     },
     "output_type": "display_data"
    }
   ],
   "source": [
    "import matplotlib.pyplot as plot\n",
    "plot.plot(history.history['acc'])\n",
    "plot.plot(history.history['val_acc'])\n",
    "plot.title('Model accuracy')\n",
    "plot.ylabel('Accuracy')\n",
    "plot.xlabel('Epoch')\n",
    "plot.legend(['Train', 'Vall'], loc='upper left')\n",
    "plot.show()\n",
    "\n",
    "plot.plot(history.history['loss'])\n",
    "plot.plot(history.history['val_loss'])\n",
    "plot.title('Model loss')\n",
    "plot.ylabel('Loss')\n",
    "plot.xlabel('Epoch')\n",
    "plot.legend(['Train', 'Vall'], loc='upper left')\n",
    "plot.show()"
   ]
  },
  {
   "cell_type": "markdown",
   "metadata": {
    "colab": {
     "base_uri": "https://localhost:8080/"
    },
    "id": "YOYJZtk0TcWY",
    "outputId": "22bbb5e8-33ba-4b19-e0bb-e8baf3bdd5f0"
   },
   "source": [
    "score = model.evaluate(test_generator)\n",
    "\n",
    "print('===Testing loss and accuracy===')\n",
    "print('Test loss: ', score[0])\n",
    "print('Test accuracy: ', score[1])"
   ]
  },
  {
   "cell_type": "markdown",
   "metadata": {},
   "source": [
    "# Exercise 2.b | Underfitting, best number of epochs"
   ]
  },
  {
   "cell_type": "code",
   "execution_count": null,
   "metadata": {
    "colab": {
     "base_uri": "https://localhost:8080/"
    },
    "id": "P2pgpM1B7-c0",
    "outputId": "a8a30f18-e631-4f25-f212-fe5fa9daa634"
   },
   "outputs": [
    {
     "name": "stdout",
     "output_type": "stream",
     "text": [
      "Model: \"sequential_1\"\n",
      "_________________________________________________________________\n",
      "Layer (type)                 Output Shape              Param #   \n",
      "=================================================================\n",
      "conv2d (Conv2D)              (None, 100, 100, 64)      1792      \n",
      "_________________________________________________________________\n",
      "max_pooling2d (MaxPooling2D) (None, 50, 50, 64)        0         \n",
      "_________________________________________________________________\n",
      "conv2d_1 (Conv2D)            (None, 50, 50, 32)        18464     \n",
      "_________________________________________________________________\n",
      "max_pooling2d_1 (MaxPooling2 (None, 25, 25, 32)        0         \n",
      "_________________________________________________________________\n",
      "flatten (Flatten)            (None, 20000)             0         \n",
      "_________________________________________________________________\n",
      "dense (Dense)                (None, 128)               2560128   \n",
      "_________________________________________________________________\n",
      "dense_1 (Dense)              (None, 10)                1290      \n",
      "=================================================================\n",
      "Total params: 2,581,674\n",
      "Trainable params: 2,581,674\n",
      "Non-trainable params: 0\n",
      "_________________________________________________________________\n"
     ]
    }
   ],
   "source": [
    "model_b = models.Sequential()\n",
    "\n",
    "model_b.add(layers.Conv2D(64, (3,3), input_shape=(100, 100, 3), padding='same', activation='relu'))\n",
    "model_b.add(layers.MaxPooling2D(pool_size=(2,2)))\n",
    "model_b.add(layers.Conv2D(32, (3,3), input_shape=(100, 100, 3), padding='same', activation='relu'))\n",
    "model_b.add(layers.MaxPooling2D(pool_size=(2,2)))\n",
    "model_b.add(layers.Flatten())\n",
    "model_b.add(layers.Dense(128, activation='relu'))\n",
    "model_b.add(layers.Dense(10, activation='softmax'))\n",
    "\n",
    "model_b.summary()"
   ]
  },
  {
   "cell_type": "code",
   "execution_count": null,
   "metadata": {
    "colab": {
     "base_uri": "https://localhost:8080/"
    },
    "id": "v4SObrQ_8E0Q",
    "outputId": "5f3f1526-b6a0-4885-ad95-293073c1637f"
   },
   "outputs": [
    {
     "name": "stdout",
     "output_type": "stream",
     "text": [
      "[INFO] Model is training...\n",
      "Epoch 1/15\n",
      "97/97 [==============================] - 13s 56ms/step - loss: 2.2456 - acc: 0.2021 - val_loss: 1.1371 - val_acc: 0.7143\n",
      "Epoch 2/15\n",
      "97/97 [==============================] - 5s 51ms/step - loss: 0.8271 - acc: 0.7223 - val_loss: 0.7744 - val_acc: 0.7698\n",
      "Epoch 3/15\n",
      "97/97 [==============================] - 5s 55ms/step - loss: 0.5582 - acc: 0.8057 - val_loss: 0.6185 - val_acc: 0.7976\n",
      "Epoch 4/15\n",
      "97/97 [==============================] - 5s 50ms/step - loss: 0.4367 - acc: 0.8739 - val_loss: 0.5502 - val_acc: 0.8333\n",
      "Epoch 5/15\n",
      "97/97 [==============================] - 5s 51ms/step - loss: 0.2786 - acc: 0.9085 - val_loss: 0.5475 - val_acc: 0.8254\n",
      "Epoch 6/15\n",
      "97/97 [==============================] - 5s 50ms/step - loss: 0.2232 - acc: 0.9388 - val_loss: 0.5693 - val_acc: 0.8095\n",
      "Epoch 7/15\n",
      "97/97 [==============================] - 5s 49ms/step - loss: 0.1727 - acc: 0.9424 - val_loss: 0.5474 - val_acc: 0.8254\n",
      "Epoch 8/15\n",
      "97/97 [==============================] - 5s 50ms/step - loss: 0.1023 - acc: 0.9670 - val_loss: 0.5820 - val_acc: 0.8373\n",
      "Epoch 9/15\n",
      "97/97 [==============================] - 5s 51ms/step - loss: 0.0591 - acc: 0.9909 - val_loss: 0.5192 - val_acc: 0.8452\n",
      "Epoch 10/15\n",
      "97/97 [==============================] - 5s 50ms/step - loss: 0.0510 - acc: 0.9913 - val_loss: 0.6658 - val_acc: 0.8452\n",
      "Epoch 11/15\n",
      "97/97 [==============================] - 5s 51ms/step - loss: 0.0207 - acc: 0.9979 - val_loss: 0.7013 - val_acc: 0.8492\n",
      "Epoch 12/15\n",
      "97/97 [==============================] - 5s 51ms/step - loss: 0.0158 - acc: 0.9973 - val_loss: 0.6181 - val_acc: 0.8492\n",
      "Epoch 13/15\n",
      "97/97 [==============================] - 5s 50ms/step - loss: 0.0162 - acc: 0.9989 - val_loss: 0.6601 - val_acc: 0.8452\n",
      "Epoch 14/15\n",
      "97/97 [==============================] - 5s 51ms/step - loss: 0.0243 - acc: 0.9954 - val_loss: 0.6703 - val_acc: 0.8810\n",
      "Epoch 15/15\n",
      "97/97 [==============================] - 5s 50ms/step - loss: 0.0296 - acc: 0.9922 - val_loss: 0.7047 - val_acc: 0.8611\n",
      "Time taken: 82.2 seconds\n",
      "[INFO] Model is trained.\n"
     ]
    }
   ],
   "source": [
    "print(\"[INFO] Model is training...\")\n",
    "time1 = time.time()   # to measure time taken\n",
    "# Compile the model\n",
    "model_b.compile(loss='categorical_crossentropy',\n",
    "              optimizer=optimizers.Adam(learning_rate=1e-3),\n",
    "              metrics=['acc'])\n",
    "\n",
    "history_b = model_b.fit(\n",
    "      train_generator,\n",
    "      steps_per_epoch=train_generator.samples/train_generator.batch_size ,\n",
    "      epochs=15,\n",
    "      validation_data=validation_generator,\n",
    "      validation_steps=validation_generator.samples/validation_generator.batch_size,\n",
    ")\n",
    "print('Time taken: {:.1f} seconds'.format(time.time() - time1))   # to measure time taken\n",
    "print(\"[INFO] Model is trained.\")"
   ]
  },
  {
   "cell_type": "code",
   "execution_count": null,
   "metadata": {
    "colab": {
     "base_uri": "https://localhost:8080/",
     "height": 573
    },
    "id": "0IL2MtBJ8QWo",
    "outputId": "27147fd8-3a9d-4273-c6ce-7d3dfae96edd"
   },
   "outputs": [
    {
     "data": {
      "image/png": "[encoded data removed]",
      "text/plain": [
       "<Figure size 432x288 with 1 Axes>"
      ]
     },
     "metadata": {
      "tags": []
     },
     "output_type": "display_data"
    },
    {
     "data": {
      "image/png": "[encoded data removed]",
      "text/plain": [
       "<Figure size 432x288 with 1 Axes>"
      ]
     },
     "metadata": {
      "tags": []
     },
     "output_type": "display_data"
    }
   ],
   "source": [
    "import matplotlib.pyplot as plot\n",
    "plot.plot(history_b.history['acc'])\n",
    "plot.plot(history_b.history['val_acc'])\n",
    "plot.title('Model accuracy')\n",
    "plot.ylabel('Accuracy')\n",
    "plot.xlabel('Epoch')\n",
    "plot.legend(['Train', 'Vall'], loc='upper left')\n",
    "plot.show()\n",
    "\n",
    "plot.plot(history_b.history['loss'])\n",
    "plot.plot(history_b.history['val_loss'])\n",
    "plot.title('Model loss')\n",
    "plot.ylabel('Loss')\n",
    "plot.xlabel('Epoch')\n",
    "plot.legend(['Train', 'Vall'], loc='upper left')\n",
    "plot.show()"
   ]
  },
  {
   "cell_type": "code",
   "execution_count": null,
   "metadata": {
    "colab": {
     "base_uri": "https://localhost:8080/"
    },
    "id": "w3oztu0H8Tv2",
    "outputId": "dc864220-3a32-48af-e710-a6d652cd4adb"
   },
   "outputs": [
    {
     "name": "stdout",
     "output_type": "stream",
     "text": [
      "16/16 [==============================] - 1s 35ms/step - loss: 0.6714 - acc: 0.8889\n",
      "===Testing loss and accuracy===\n",
      "Test loss:  0.6714133024215698\n",
      "Test accuracy:  0.8888888955116272\n"
     ]
    }
   ],
   "source": [
    "score = model_b.evaluate(test_generator)\n",
    "\n",
    "print('===Testing loss and accuracy===')\n",
    "print('Test loss: ', score[0])\n",
    "print('Test accuracy: ', score[1])"
   ]
  },
  {
   "cell_type": "code",
   "execution_count": null,
   "metadata": {
    "id": "-fD153gVtpOa"
   },
   "outputs": [],
   "source": [
    "def evaluate_model(model, X_test, labels):\n",
    "    \n",
    "    labels = np.array(labels)\n",
    "    labels = labels.astype(int)\n",
    "    \n",
    "    y_pred = np.argmax(model.predict(X_test), axis=1)\n",
    "    \n",
    "    \n",
    "    cm = confusion_matrix(labels, y_pred)\n",
    "    clr = classification_report(labels, y_pred)\n",
    "    \n",
    "    plt.figure(figsize=(10, 10))\n",
    "    sns.heatmap(cm, annot=True, vmin=0, fmt='g', cmap='Blues', cbar=False)\n",
    "    plt.xlabel(\"Predicted\")\n",
    "    plt.ylabel(\"Actual\")\n",
    "    plt.title(\"Confusion Matrix\")\n",
    "    plt.show()\n",
    "    \n",
    "    print(\"Classification Report:\\n----------------------\\n\", clr)"
   ]
  },
  {
   "cell_type": "code",
   "execution_count": null,
   "metadata": {
    "colab": {
     "base_uri": "https://localhost:8080/",
     "height": 944
    },
    "id": "BABXGiKbt0Qp",
    "outputId": "856d0b80-4019-4cf9-c5c5-51a18fabc3eb"
   },
   "outputs": [
    {
     "data": {
      "image/png": "[encoded data removed]",
      "text/plain": [
       "<Figure size 720x720 with 1 Axes>"
      ]
     },
     "metadata": {
      "tags": []
     },
     "output_type": "display_data"
    },
    {
     "name": "stdout",
     "output_type": "stream",
     "text": [
      "Classification Report:\n",
      "----------------------\n",
      "               precision    recall  f1-score   support\n",
      "\n",
      "           0       0.83      0.93      0.88        27\n",
      "           1       0.82      0.72      0.77        25\n",
      "           2       0.88      0.56      0.68        25\n",
      "           3       0.85      0.92      0.88        25\n",
      "           4       0.62      0.60      0.61        25\n",
      "           5       0.67      0.96      0.79        25\n",
      "           6       0.62      0.52      0.57        25\n",
      "           7       0.64      0.56      0.60        25\n",
      "           8       0.68      0.76      0.72        25\n",
      "           9       0.81      0.84      0.82        25\n",
      "\n",
      "    accuracy                           0.74       252\n",
      "   macro avg       0.74      0.74      0.73       252\n",
      "weighted avg       0.74      0.74      0.73       252\n",
      "\n"
     ]
    }
   ],
   "source": [
    "evaluate_model(model_b,originalTestX,originalTestY)"
   ]
  },
  {
   "cell_type": "markdown",
   "metadata": {
    "id": "-04wy79IGmYb"
   },
   "source": [
    "# Exercise 2.c | CNN variations, best architecture"
   ]
  },
  {
   "cell_type": "code",
   "execution_count": null,
   "metadata": {
    "colab": {
     "base_uri": "https://localhost:8080/"
    },
    "id": "UFkBqpoNGla9",
    "outputId": "ee3478e0-84bc-424b-fcf4-b85c9dee2f0c"
   },
   "outputs": [
    {
     "name": "stdout",
     "output_type": "stream",
     "text": [
      "Model: \"sequential_12\"\n",
      "_________________________________________________________________\n",
      "Layer (type)                 Output Shape              Param #   \n",
      "=================================================================\n",
      "conv2d_33 (Conv2D)           (None, 100, 100, 64)      1792      \n",
      "_________________________________________________________________\n",
      "max_pooling2d_32 (MaxPooling (None, 50, 50, 64)        0         \n",
      "_________________________________________________________________\n",
      "conv2d_34 (Conv2D)           (None, 50, 50, 32)        18464     \n",
      "_________________________________________________________________\n",
      "max_pooling2d_33 (MaxPooling (None, 25, 25, 32)        0         \n",
      "_________________________________________________________________\n",
      "conv2d_35 (Conv2D)           (None, 25, 25, 16)        4624      \n",
      "_________________________________________________________________\n",
      "max_pooling2d_34 (MaxPooling (None, 12, 12, 16)        0         \n",
      "_________________________________________________________________\n",
      "flatten_9 (Flatten)          (None, 2304)              0         \n",
      "_________________________________________________________________\n",
      "dense_16 (Dense)             (None, 128)               295040    \n",
      "_________________________________________________________________\n",
      "dense_17 (Dense)             (None, 10)                1290      \n",
      "=================================================================\n",
      "Total params: 321,210\n",
      "Trainable params: 321,210\n",
      "Non-trainable params: 0\n",
      "_________________________________________________________________\n"
     ]
    }
   ],
   "source": [
    "model_c = models.Sequential()\n",
    "\n",
    "model_c.add(layers.Conv2D(64, (3,3), input_shape=(100, 100, 3), padding='same', activation='relu'))\n",
    "model.add(BatchNomralization(momentum=0.1))\n",
    "model_c.add(layers.MaxPooling2D(pool_size=(2,2)))\n",
    "model_c.add(layers.Conv2D(32, (3,3), input_shape=(100, 100, 3), padding='same', activation='relu'))\n",
    "model.add(BatchNomralization(momentum=0.1))\n",
    "model_c.add(layers.MaxPooling2D(pool_size=(2,2)))\n",
    "model_c.add(layers.Conv2D(16, (3,3), input_shape=(100, 100, 3), padding='same', activation='relu'))\n",
    "model.add(BatchNomralization(momentum=0.1))\n",
    "model_c.add(layers.MaxPooling2D(pool_size=(2,2)))\n",
    "model_c.add(layers.Flatten())\n",
    "model_c.add(layers.Dense(128, activation='relu'))\n",
    "model_c.add(layers.Dense(10, activation='softmax'))\n",
    "\n",
    "model_c.summary()"
   ]
  },
  {
   "cell_type": "code",
   "execution_count": null,
   "metadata": {},
   "outputs": [],
   "source": [
    "print(\"[INFO] Model is training...\")\n",
    "# Compile the model\n",
    "model_c.compile(loss='categorical_crossentropy',\n",
    "              optimizer=optimizers.Adam(learning_rate=1e-3),\n",
    "              metrics=['acc'])\n",
    "\n",
    "history_c = model_c.fit(\n",
    "      train_generator,\n",
    "      steps_per_epoch=train_generator.samples/train_generator.batch_size ,\n",
    "      epochs=30,\n",
    "      validation_data=validation_generator,\n",
    "      validation_steps=validation_generator.samples/validation_generator.batch_size,\n",
    ")\n",
    "print('Time taken: {:.1f} seconds'.format(time.time() - time1))   # to measure time taken\n",
    "print(\"[INFO] Model is trained.\")"
   ]
  },
  {
   "cell_type": "code",
   "execution_count": null,
   "metadata": {
    "colab": {
     "base_uri": "https://localhost:8080/"
    },
    "id": "zxPEkZ1NXAYq",
    "outputId": "bb88d370-66a9-4ba3-8ed5-92b5aa52e86f"
   },
   "outputs": [
    {
     "name": "stdout",
     "output_type": "stream",
     "text": [
      "16/16 [==============================] - 1s 35ms/step - loss: 0.6731 - acc: 0.9048\n",
      "===Testing loss and accuracy===\n",
      "Test loss:  0.6731002926826477\n",
      "Test accuracy:  0.9047619104385376\n"
     ]
    }
   ],
   "source": [
    "score = model_c.evaluate(test_generator)\n",
    "\n",
    "print('===Testing loss and accuracy===')\n",
    "print('Test loss: ', score[0])\n",
    "print('Test accuracy: ', score[1])"
   ]
  },
  {
   "cell_type": "code",
   "execution_count": null,
   "metadata": {
    "colab": {
     "base_uri": "https://localhost:8080/",
     "height": 573
    },
    "id": "Bao-IaUTISYk",
    "outputId": "ace7a66f-63f0-4e27-ef70-00c606ca9a83"
   },
   "outputs": [
    {
     "data": {
      "image/png": "[encoded data removed]",
      "text/plain": [
       "<Figure size 432x288 with 1 Axes>"
      ]
     },
     "metadata": {
      "tags": []
     },
     "output_type": "display_data"
    },
    {
     "data": {
      "image/png": "[encoded data removed]",
      "text/plain": [
       "<Figure size 432x288 with 1 Axes>"
      ]
     },
     "metadata": {
      "tags": []
     },
     "output_type": "display_data"
    }
   ],
   "source": [
    "import matplotlib.pyplot as plot\n",
    "plot.plot(history_c.history['acc'])\n",
    "plot.plot(history_c.history['val_acc'])\n",
    "plot.title('Model accuracy')\n",
    "plot.ylabel('Accuracy')\n",
    "plot.xlabel('Epoch')\n",
    "plot.legend(['Train', 'Vall'], loc='upper left')\n",
    "plot.show()\n",
    "\n",
    "plot.plot(history_c.history['loss'])\n",
    "plot.plot(history_c.history['val_loss'])\n",
    "plot.title('Model loss')\n",
    "plot.ylabel('Loss')\n",
    "plot.xlabel('Epoch')\n",
    "plot.legend(['Train', 'Vall'], loc='upper left')\n",
    "plot.show()"
   ]
  },
  {
   "cell_type": "markdown",
   "metadata": {
    "id": "THseSl-smltT"
   },
   "source": [
    "# Exercise 2.d | Use batch normalization"
   ]
  },
  {
   "cell_type": "code",
   "execution_count": null,
   "metadata": {
    "colab": {
     "base_uri": "https://localhost:8080/"
    },
    "id": "Vc9_NP8cLHPb",
    "outputId": "cc24150b-d531-44c0-e7da-0b9d020af62f"
   },
   "outputs": [
    {
     "name": "stdout",
     "output_type": "stream",
     "text": [
      "Model: \"sequential_5\"\n",
      "_________________________________________________________________\n",
      "Layer (type)                 Output Shape              Param #   \n",
      "=================================================================\n",
      "conv2d_7 (Conv2D)            (None, 100, 100, 64)      1792      \n",
      "_________________________________________________________________\n",
      "batch_normalization_4 (Batch (None, 100, 100, 64)      256       \n",
      "_________________________________________________________________\n",
      "max_pooling2d_4 (MaxPooling2 (None, 50, 50, 64)        0         \n",
      "_________________________________________________________________\n",
      "conv2d_8 (Conv2D)            (None, 50, 50, 32)        18464     \n",
      "_________________________________________________________________\n",
      "batch_normalization_5 (Batch (None, 50, 50, 32)        128       \n",
      "_________________________________________________________________\n",
      "max_pooling2d_5 (MaxPooling2 (None, 25, 25, 32)        0         \n",
      "_________________________________________________________________\n",
      "flatten_2 (Flatten)          (None, 20000)             0         \n",
      "_________________________________________________________________\n",
      "dense_4 (Dense)              (None, 128)               2560128   \n",
      "_________________________________________________________________\n",
      "dense_5 (Dense)              (None, 10)                1290      \n",
      "=================================================================\n",
      "Total params: 2,582,058\n",
      "Trainable params: 2,581,866\n",
      "Non-trainable params: 192\n",
      "_________________________________________________________________\n"
     ]
    }
   ],
   "source": [
    "model_d = models.Sequential()\n",
    "\n",
    "model_d.add(layers.Conv2D(64, (3,3), input_shape=(100, 100, 3), padding='same', activation='relu'))\n",
    "model_d.add(layers.BatchNormalization(momentum=0.1))\n",
    "#model_d.add(layers.BatchNormalization())\n",
    "model_d.add(layers.MaxPooling2D(pool_size=(2,2)))\n",
    "model_d.add(layers.Conv2D(32, (3,3), input_shape=(100, 100, 3), padding='same', activation='relu'))\n",
    "model_d.add(layers.BatchNormalization(momentum=0.1))\n",
    "#model_d.add(layers.BatchNormalization())\n",
    "model_d.add(layers.MaxPooling2D(pool_size=(2,2)))\n",
    "model_d.add(layers.Flatten())\n",
    "model_d.add(layers.Dense(128, activation='relu'))\n",
    "model_d.add(layers.Dense(10, activation='softmax'))\n",
    "\n",
    "model_d.summary()"
   ]
  },
  {
   "cell_type": "code",
   "execution_count": null,
   "metadata": {
    "colab": {
     "base_uri": "https://localhost:8080/"
    },
    "id": "QdJsEsyzLWxt",
    "outputId": "d2621a5e-6345-491c-f84c-31690f04e987"
   },
   "outputs": [
    {
     "name": "stdout",
     "output_type": "stream",
     "text": [
      "[INFO] Model is training...\n",
      "Epoch 1/15\n",
      "97/97 [==============================] - 6s 52ms/step - loss: 5.0921 - acc: 0.2836 - val_loss: 1.7233 - val_acc: 0.5278\n",
      "Epoch 2/15\n",
      "97/97 [==============================] - 5s 50ms/step - loss: 1.1354 - acc: 0.6407 - val_loss: 0.9201 - val_acc: 0.7262\n",
      "Epoch 3/15\n",
      "97/97 [==============================] - 5s 50ms/step - loss: 0.5822 - acc: 0.8155 - val_loss: 0.9977 - val_acc: 0.6944\n",
      "Epoch 4/15\n",
      "97/97 [==============================] - 5s 50ms/step - loss: 0.4015 - acc: 0.8551 - val_loss: 0.9442 - val_acc: 0.7659\n",
      "Epoch 5/15\n",
      "97/97 [==============================] - 5s 51ms/step - loss: 0.2388 - acc: 0.9130 - val_loss: 0.5728 - val_acc: 0.8294\n",
      "Epoch 6/15\n",
      "97/97 [==============================] - 5s 50ms/step - loss: 0.0840 - acc: 0.9716 - val_loss: 0.4130 - val_acc: 0.8810\n",
      "Epoch 7/15\n",
      "97/97 [==============================] - 5s 49ms/step - loss: 0.0341 - acc: 0.9914 - val_loss: 0.4413 - val_acc: 0.8611\n",
      "Epoch 8/15\n",
      "97/97 [==============================] - 5s 51ms/step - loss: 0.0255 - acc: 0.9968 - val_loss: 0.4757 - val_acc: 0.8770\n",
      "Epoch 9/15\n",
      "97/97 [==============================] - 5s 50ms/step - loss: 0.0112 - acc: 0.9993 - val_loss: 0.4629 - val_acc: 0.8770\n",
      "Epoch 10/15\n",
      "97/97 [==============================] - 5s 49ms/step - loss: 0.0046 - acc: 1.0000 - val_loss: 0.4290 - val_acc: 0.8849\n",
      "Epoch 11/15\n",
      "97/97 [==============================] - 5s 51ms/step - loss: 0.0028 - acc: 1.0000 - val_loss: 0.4490 - val_acc: 0.8889\n",
      "Epoch 12/15\n",
      "97/97 [==============================] - 5s 52ms/step - loss: 0.0023 - acc: 1.0000 - val_loss: 0.4298 - val_acc: 0.8889\n",
      "Epoch 13/15\n",
      "97/97 [==============================] - 5s 54ms/step - loss: 0.0019 - acc: 1.0000 - val_loss: 0.4383 - val_acc: 0.8849\n",
      "Epoch 14/15\n",
      "97/97 [==============================] - 5s 52ms/step - loss: 0.0014 - acc: 1.0000 - val_loss: 0.4663 - val_acc: 0.8849\n",
      "Epoch 15/15\n",
      "97/97 [==============================] - 5s 51ms/step - loss: 0.0012 - acc: 1.0000 - val_loss: 0.4306 - val_acc: 0.8968\n",
      "[INFO] Model is trained.\n"
     ]
    }
   ],
   "source": [
    "print(\"[INFO] Model is training...\")\n",
    "# Compile the model\n",
    "model_d.compile(loss='categorical_crossentropy',\n",
    "              optimizer=optimizers.Adam(learning_rate=1e-3),\n",
    "              metrics=['acc'])\n",
    "\n",
    "history_d = model_d.fit(\n",
    "      train_generator,\n",
    "      steps_per_epoch=train_generator.samples/train_generator.batch_size ,\n",
    "      epochs=15,\n",
    "      validation_data=validation_generator,\n",
    "      validation_steps=validation_generator.samples/validation_generator.batch_size,\n",
    ")\n",
    "#print('Time taken: {:.1f} seconds'.format(time.time() - time1))   # to measure time taken\n",
    "print(\"[INFO] Model is trained.\")"
   ]
  },
  {
   "cell_type": "code",
   "execution_count": null,
   "metadata": {
    "colab": {
     "base_uri": "https://localhost:8080/"
    },
    "id": "zHWrp6V0LeNR",
    "outputId": "b79b536a-a4f3-4212-852b-5046c4fff527"
   },
   "outputs": [
    {
     "name": "stdout",
     "output_type": "stream",
     "text": [
      "16/16 [==============================] - 1s 37ms/step - loss: 0.5469 - acc: 0.8889\n",
      "===Testing loss and accuracy===\n",
      "Test loss:  0.5468953847885132\n",
      "Test accuracy:  0.8888888955116272\n"
     ]
    }
   ],
   "source": [
    "score = model_d.evaluate(test_generator)\n",
    "\n",
    "print('===Testing loss and accuracy===')\n",
    "print('Test loss: ', score[0])\n",
    "print('Test accuracy: ', score[1])"
   ]
  },
  {
   "cell_type": "code",
   "execution_count": null,
   "metadata": {
    "id": "koST0OBTLhp8"
   },
   "outputs": [],
   "source": [
    "import matplotlib.pyplot as plot\n",
    "plot.plot(history_d.history['acc'])\n",
    "plot.plot(history_d.history['val_acc'])\n",
    "plot.title('Model accuracy')\n",
    "plot.ylabel('Accuracy')\n",
    "plot.xlabel('Epoch')\n",
    "plot.legend(['Train', 'Vall'], loc='upper left')\n",
    "plot.show()\n",
    "\n",
    "plot.plot(history_d.history['loss'])\n",
    "plot.plot(history_d.history['val_loss'])\n",
    "plot.title('Model loss')\n",
    "plot.ylabel('Loss')\n",
    "plot.xlabel('Epoch')\n",
    "plot.legend(['Train', 'Vall'], loc='upper left')\n",
    "plot.show()"
   ]
  },
  {
   "cell_type": "markdown",
   "metadata": {
    "id": "B31vPxKZM2JT"
   },
   "source": [
    "# Exercise 1.e | Without dense and pooling layers"
   ]
  },
  {
   "cell_type": "code",
   "execution_count": null,
   "metadata": {
    "colab": {
     "base_uri": "https://localhost:8080/"
    },
    "id": "Rbf21LyAM5gT",
    "outputId": "d08a5981-a2ef-4f09-ab65-ac61be75378f"
   },
   "outputs": [
    {
     "name": "stdout",
     "output_type": "stream",
     "text": [
      "Model: \"sequential_3\"\n",
      "_________________________________________________________________\n",
      "Layer (type)                 Output Shape              Param #   \n",
      "=================================================================\n",
      "conv2d_4 (Conv2D)            (None, 100, 100, 64)      1792      \n",
      "_________________________________________________________________\n",
      "conv2d_5 (Conv2D)            (None, 100, 100, 32)      18464     \n",
      "_________________________________________________________________\n",
      "flatten_2 (Flatten)          (None, 320000)            0         \n",
      "_________________________________________________________________\n",
      "dense_2 (Dense)              (None, 10)                3200010   \n",
      "=================================================================\n",
      "Total params: 3,220,266\n",
      "Trainable params: 3,220,266\n",
      "Non-trainable params: 0\n",
      "_________________________________________________________________\n"
     ]
    }
   ],
   "source": [
    "model_e1 = models.Sequential()\n",
    "\n",
    "model_e1.add(layers.Conv2D(64, (3,3), input_shape=(100, 100, 3), padding='same', activation='relu'))\n",
    "#model.add(BatchNomralization(momentum=0.1))\n",
    "#model_d.add(layers.BatchNormalization())\n",
    "#model_e1.add(layers.MaxPooling2D(pool_size=(2,2)))\n",
    "model_e1.add(layers.Conv2D(32, (3,3), input_shape=(100, 100, 3), padding='same', activation='relu'))\n",
    "#model.add(BatchNomralization(momentum=0.1))\n",
    "#model_d.add(layers.BatchNormalization())\n",
    "#model_e1.add(layers.MaxPooling2D(pool_size=(2,2)))\n",
    "model_e1.add(layers.Flatten())\n",
    "#model_d.add(layers.Dense(128, activation='relu'))\n",
    "model_e1.add(layers.Dense(10, activation='softmax'))\n",
    "\n",
    "model_e1.summary()"
   ]
  },
  {
   "cell_type": "code",
   "execution_count": null,
   "metadata": {},
   "outputs": [],
   "source": [
    "print(\"[INFO] Model is training...\")\n",
    "# Compile the model\n",
    "model_e1.compile(loss='categorical_crossentropy',\n",
    "              optimizer=optimizers.Adam(learning_rate=1e-3),\n",
    "              metrics=['acc'])\n",
    "\n",
    "history_e1 = model_e1.fit(\n",
    "      train_generator,\n",
    "      steps_per_epoch=train_generator.samples/train_generator.batch_size ,\n",
    "      epochs=30,\n",
    "      validation_data=validation_generator,\n",
    "      validation_steps=validation_generator.samples/validation_generator.batch_size,\n",
    ")\n",
    "print('Time taken: {:.1f} seconds'.format(time.time() - time1))   # to measure time taken\n",
    "print(\"[INFO] Model is trained.\")"
   ]
  },
  {
   "cell_type": "code",
   "execution_count": null,
   "metadata": {
    "colab": {
     "base_uri": "https://localhost:8080/"
    },
    "id": "PVW2WNi5NdYs",
    "outputId": "e206396a-bc10-41a3-94bb-895071d7cfd4"
   },
   "outputs": [
    {
     "name": "stdout",
     "output_type": "stream",
     "text": [
      "Model: \"sequential_43\"\n",
      "_________________________________________________________________\n",
      "Layer (type)                 Output Shape              Param #   \n",
      "=================================================================\n",
      "conv2d_84 (Conv2D)           (None, 100, 100, 64)      1792      \n",
      "_________________________________________________________________\n",
      "conv2d_85 (Conv2D)           (None, 100, 100, 32)      18464     \n",
      "_________________________________________________________________\n",
      "flatten_43 (Flatten)         (None, 320000)            0         \n",
      "_________________________________________________________________\n",
      "dense_79 (Dense)             (None, 128)               40960128  \n",
      "_________________________________________________________________\n",
      "dense_80 (Dense)             (None, 10)                1290      \n",
      "=================================================================\n",
      "Total params: 40,981,674\n",
      "Trainable params: 40,981,674\n",
      "Non-trainable params: 0\n",
      "_________________________________________________________________\n"
     ]
    }
   ],
   "source": [
    "model_e2 = models.Sequential()\n",
    "\n",
    "model_e2.add(layers.Conv2D(64, (3,3), input_shape=(100, 100, 3), padding='same', activation='relu'))\n",
    "#model.add(BatchNomralization(momentum=0.1))\n",
    "#model_d.add(layers.BatchNormalization())\n",
    "#model_e2.add(layers.MaxPooling2D(pool_size=(2,2)))\n",
    "model_e2.add(layers.Conv2D(32, (3,3), input_shape=(100, 100, 3), padding='same', activation='relu'))\n",
    "#model.add(BatchNomralization(momentum=0.1))\n",
    "#model_d.add(layers.BatchNormalization())\n",
    "#model_e2.add(layers.MaxPooling2D(pool_size=(2,2)))\n",
    "model_e2.add(layers.Flatten())\n",
    "model_e2.add(layers.Dense(128, activation='relu'))\n",
    "model_e2.add(layers.Dense(10, activation='softmax'))\n",
    "\n",
    "model_e2.summary()"
   ]
  },
  {
   "cell_type": "code",
   "execution_count": null,
   "metadata": {},
   "outputs": [],
   "source": [
    "print(\"[INFO] Model is training...\")\n",
    "# Compile the model\n",
    "model_e2.compile(loss='categorical_crossentropy',\n",
    "              optimizer=optimizers.Adam(learning_rate=1e-3),\n",
    "              metrics=['acc'])\n",
    "\n",
    "history_e2 = model_e2.fit(\n",
    "      train_generator,\n",
    "      steps_per_epoch=train_generator.samples/train_generator.batch_size ,\n",
    "      epochs=30,\n",
    "      validation_data=validation_generator,\n",
    "      validation_steps=validation_generator.samples/validation_generator.batch_size,\n",
    ")\n",
    "print('Time taken: {:.1f} seconds'.format(time.time() - time1))   # to measure time taken\n",
    "print(\"[INFO] Model is trained.\")"
   ]
  },
  {
   "cell_type": "code",
   "execution_count": null,
   "metadata": {},
   "outputs": [],
   "source": [
    "score = model_e2.evaluate(test_generator)\n",
    "\n",
    "print('===Testing loss and accuracy===')\n",
    "print('Test loss: ', score[0])\n",
    "print('Test accuracy: ', score[1])"
   ]
  }
 ],
 "metadata": {
  "accelerator": "GPU",
  "colab": {
   "collapsed_sections": [],
   "name": "CNN_1.ipynb",
   "provenance": []
  },
  "kernelspec": {
   "display_name": "Python 3",
   "language": "python",
   "name": "python3"
  },
  "language_info": {
   "codemirror_mode": {
    "name": "ipython",
    "version": 3
   },
   "file_extension": ".py",
   "mimetype": "text/x-python",
   "name": "python",
   "nbconvert_exporter": "python",
   "pygments_lexer": "ipython3",
   "version": "3.8.6"
  }
 },
 "nbformat": 4,
 "nbformat_minor": 1
}
