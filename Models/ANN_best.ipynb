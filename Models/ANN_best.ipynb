{
 "cells": [
  {
   "cell_type": "markdown",
   "metadata": {
    "id": "syg2855SDckH"
   },
   "source": [
    "# Moount google drive to colab"
   ]
  },
  {
   "cell_type": "code",
   "execution_count": null,
   "metadata": {
    "colab": {
     "base_uri": "https://localhost:8080/"
    },
    "id": "tiv9adke9iFG",
    "outputId": "e4ac37b6-d0b9-4c2e-b218-4a3ce91325fd"
   },
   "outputs": [
    {
     "name": "stdout",
     "output_type": "stream",
     "text": [
      "Mounted at /content/drive\n"
     ]
    }
   ],
   "source": [
    "from google.colab import drive\n",
    "drive.mount(\"/content/drive\")"
   ]
  },
  {
   "cell_type": "markdown",
   "metadata": {
    "id": "CxwGkQGQI7G5"
   },
   "source": [
    "# Import libraries"
   ]
  },
  {
   "cell_type": "code",
   "execution_count": null,
   "metadata": {
    "id": "Cury_DRDD10L"
   },
   "outputs": [],
   "source": [
    "import os\n",
    "import random \n",
    "import numpy as np\n",
    "import shutil\n",
    "import time \n",
    "from PIL import Image, ImageOps\n",
    "import cv2\n",
    "import pandas as pd\n",
    "import math\n",
    "from math import floor\n",
    "\n",
    "import matplotlib.pyplot as plt\n",
    "import seaborn as sns\n",
    "sns.set_style('darkgrid')\n",
    "\n",
    "import tensorflow as tf\n",
    "\n",
    "from sklearn.metrics import confusion_matrix, classification_report\n",
    "from sklearn.preprocessing import LabelBinarizer\n",
    "from sklearn.preprocessing import MinMaxScaler\n",
    "from keras.preprocessing.image import ImageDataGenerator\n",
    "from keras.callbacks import EarlyStopping\n",
    "from keras.callbacks import ModelCheckpoint\n",
    "from keras.callbacks import LearningRateScheduler\n",
    "\n",
    "from keras import models, layers, optimizers\n",
    "from keras.callbacks import ModelCheckpoint\n",
    "from keras import losses\n"
   ]
  },
  {
   "cell_type": "code",
   "execution_count": null,
   "metadata": {
    "colab": {
     "base_uri": "https://localhost:8080/"
    },
    "id": "iQR5NddfT3jM",
    "outputId": "229c9943-c3e4-4a50-9056-5a725be2fdea"
   },
   "outputs": [
    {
     "name": "stdout",
     "output_type": "stream",
     "text": [
      "\u001b[0m\u001b[01;34mdrive\u001b[0m/  \u001b[01;34msample_data\u001b[0m/\n"
     ]
    }
   ],
   "source": [
    "ls"
   ]
  },
  {
   "cell_type": "code",
   "execution_count": null,
   "metadata": {
    "colab": {
     "base_uri": "https://localhost:8080/"
    },
    "id": "rnomf0JwDv8X",
    "outputId": "5212fa8c-2e3c-44a0-86be-3656edc8a6f2"
   },
   "outputs": [
    {
     "name": "stdout",
     "output_type": "stream",
     "text": [
      "/content\n"
     ]
    }
   ],
   "source": [
    "cd content"
   ]
  },
  {
   "cell_type": "markdown",
   "metadata": {
    "id": "bWXFQeJo-LNK"
   },
   "source": [
    "# Initialize basic working directories"
   ]
  },
  {
   "cell_type": "code",
   "execution_count": null,
   "metadata": {
    "id": "vsw2B8tpAPsS"
   },
   "outputs": [],
   "source": [
    "directory = \"drive/MyDrive/Datasets/Sign digits/Dataset\"\n",
    "trainDir = \"train\"\n",
    "testDir = \"test\"\n",
    "os.chdir(directory)"
   ]
  },
  {
   "cell_type": "markdown",
   "metadata": {},
   "source": [
    "# Import data"
   ]
  },
  {
   "cell_type": "code",
   "execution_count": null,
   "metadata": {
    "colab": {
     "base_uri": "https://localhost:8080/"
    },
    "id": "oygEWR9vuvMu",
    "outputId": "acbb7083-0b2c-4205-b1dd-754bfd09bc0d"
   },
   "outputs": [
    {
     "name": "stdout",
     "output_type": "stream",
     "text": [
      "[INFO] loading images...\n",
      "ok0\n",
      "class 0310\n",
      "class 027\n",
      "class 027\n",
      "ok1\n",
      "class 1622\n",
      "class 152\n",
      "class 152\n",
      "ok2\n",
      "class 2934\n",
      "class 277\n",
      "class 277\n",
      "ok3\n",
      "class 31246\n",
      "class 3102\n",
      "class 3102\n",
      "ok4\n",
      "class 41560\n",
      "class 4127\n",
      "class 4127\n",
      "ok5\n",
      "class 51874\n",
      "class 5152\n",
      "class 5152\n",
      "ok6\n",
      "class 62188\n",
      "class 6177\n",
      "class 6177\n",
      "ok7\n",
      "class 72496\n",
      "class 7202\n",
      "class 7201\n",
      "ok8\n",
      "class 82812\n",
      "class 8227\n",
      "class 8226\n",
      "ok9\n",
      "class 93120\n",
      "class 9252\n",
      "class 9251\n",
      "Type of trainX and testX: <class 'numpy.ndarray'>\n",
      "Shape of trainX array: (3120, 10000)\n",
      "dataTest shape: 252\n",
      "Time taken: 8.3 seconds\n",
      "[INFO] Images are loaded.\n"
     ]
    }
   ],
   "source": [
    "# initialize the data and labels\n",
    "print(\"[INFO] loading images...\")\n",
    "time1 = time.time()   # to measure time taken\n",
    "dataTrain = []\n",
    "dataTest = []\n",
    "dataVal = []\n",
    "labelsTrain = []\n",
    "labelsTest = []\n",
    "labelsVal = []\n",
    "testSize = []\n",
    "valSize = []\n",
    "\n",
    "for cls in range(0,10):\n",
    "\n",
    "  dataClass = str(cls)\n",
    "  test_dir = \"augmented/test/\"+str(cls)\n",
    "  train_dir = \"augmented/train/\"+str(cls)\n",
    "  \n",
    "  # keep a list of all image names of train and test set\n",
    "  imagesTrain = os.listdir(train_dir)\n",
    "  imagesTest = os.listdir(test_dir)\n",
    " \n",
    "  \n",
    "  for i in range(len(imagesTrain)):\n",
    "\n",
    "    # open all train images one by one\n",
    "    image = np.array(ImageOps.grayscale(Image.open(train_dir + '/' + imagesTrain[i])))\n",
    "    #image = np.array(Image.open(train_dir + '/' + imagesTrain[i]))\n",
    "    image = image.flatten()\n",
    "    if (len(image.tolist())) > 30000:\n",
    "       continue\n",
    "    # keep all image flattened arrays in a list\n",
    "    dataTrain.append(image)\n",
    "    # add label\n",
    "    labelsTrain.append(str(cls))\n",
    "\n",
    "  testSize = [i for i in range(floor(len(imagesTest)/2),len(imagesTest))]\n",
    "  valSize = [i for i in range(0,floor(len(imagesTest)/2))]\n",
    "\n",
    "  # same thing for test set\n",
    "  for i in testSize:\n",
    "\n",
    "    image = np.array(ImageOps.grayscale(Image.open(test_dir + '/' + imagesTest[i])))\n",
    "    #image = np.array(Image.open(test_dir + '/' + imagesTest[i]))\n",
    "    image = image.flatten()\n",
    "    if (len(image.tolist())) > 30000:\n",
    "       continue\n",
    "    dataTest.append(image)\n",
    "    labelsTest.append(str(cls))\n",
    "\n",
    "  # same thing for validation set\n",
    "  for i in valSize:\n",
    "\n",
    "    image = np.array(ImageOps.grayscale(Image.open(test_dir + '/' + imagesTest[i])))\n",
    "    #image = np.array(Image.open(test_dir + '/' + imagesTest[i]))\n",
    "    image = image.flatten()\n",
    "    if (len(image.tolist())) > 30000:\n",
    "       continue\n",
    "    dataVal.append(image)\n",
    "    labelsVal.append(str(cls))\n",
    "      \n",
    "  \n",
    "  print('ok' + str(cls))\n",
    "  print('class '+ str(cls) + str(len(dataTrain)))\n",
    "  print('class '+ str(cls) + str(len(dataTest)))\n",
    "  print('class '+ str(cls) + str(len(dataVal)))\n",
    "\n",
    "  # scale the raw pixel intensities to the range [0, 1]\n",
    "\n",
    "  augmentedTrainX = np.array(dataTrain) \n",
    "  augmentedValX = np.array(dataVal) \n",
    "  augmentedTestX = np.array(dataTest) \n",
    "  augmentedTrainY = np.array(labelsTrain)\n",
    "  augmentedTestY = np.array(labelsTest)\n",
    "  augmentedValY = np.array(labelsVal)\n",
    "\n",
    "print('Type of trainX and testX: ' + str(type(augmentedTrainX)))\n",
    "print('Shape of trainX array: ' + str(augmentedTrainX.shape))\n",
    "print('dataTest shape: ' + str(len(dataTest)))\n",
    "print('Time taken: {:.1f} seconds'.format(time.time() - time1))   # to measure time taken\n",
    "print(\"[INFO] Images are loaded.\")\n"
   ]
  },
  {
   "cell_type": "code",
   "execution_count": null,
   "metadata": {
    "colab": {
     "base_uri": "https://localhost:8080/"
    },
    "id": "rHkfmf_rMYXN",
    "outputId": "6ce16522-78c8-4320-f63a-f4a25043281e"
   },
   "outputs": [
    {
     "name": "stderr",
     "output_type": "stream",
     "text": [
      "/usr/local/lib/python3.7/dist-packages/numpy/lib/arraysetops.py:580: FutureWarning: elementwise comparison failed; returning scalar instead, but in the future will perform elementwise comparison\n",
      "  mask |= (ar1 == a)\n"
     ]
    },
    {
     "data": {
      "text/plain": [
       "array([[1, 0, 0, ..., 0, 0, 0],\n",
       "       [1, 0, 0, ..., 0, 0, 0],\n",
       "       [1, 0, 0, ..., 0, 0, 0],\n",
       "       ...,\n",
       "       [0, 0, 0, ..., 0, 0, 1],\n",
       "       [0, 0, 0, ..., 0, 0, 1],\n",
       "       [0, 0, 0, ..., 0, 0, 1]], dtype=int64)"
      ]
     },
     "execution_count": 91,
     "metadata": {
      "tags": []
     },
     "output_type": "execute_result"
    }
   ],
   "source": [
    "lb = LabelBinarizer()\n",
    "augmentedTrainY = lb.fit_transform(augmentedTrainY)   \n",
    "augmentedValY = lb.transform(augmentedValY) \n",
    "augmentedTestY = lb.transform(augmentedTestY) \n",
    "augmentedTrainY"
   ]
  },
  {
   "cell_type": "code",
   "execution_count": null,
   "metadata": {
    "id": "NKRPawClloHD"
   },
   "outputs": [],
   "source": [
    "scalerTrain = MinMaxScaler(feature_range=(-1, 1))\n",
    "augmented_NormalizedTrainX = augmentedTrainX\n",
    "scalerTrain.fit(augmented_NormalizedTrainX)\n",
    "augmented_NormalizedTrainX = scalerTrain.transform(augmented_NormalizedTrainX)\n",
    "\n",
    "scalerTest = MinMaxScaler(feature_range=(-1, 1))\n",
    "augmented_NormalizedValX = augmentedValX\n",
    "scalerTest.fit(augmented_NormalizedValX)\n",
    "augmented_NormalizedValX = scalerTest.transform(augmented_NormalizedValX)\n",
    "\n",
    "scalerTest = MinMaxScaler(feature_range=(-1, 1))\n",
    "augmented_NormalizedTestX = augmentedTestX\n",
    "scalerTest.fit(augmented_NormalizedTestX)\n",
    "augmented_NormalizedTestX = scalerTest.transform(augmented_NormalizedTestX)"
   ]
  },
  {
   "cell_type": "code",
   "execution_count": null,
   "metadata": {
    "colab": {
     "base_uri": "https://localhost:8080/"
    },
    "id": "A-L9FwLJmQwC",
    "outputId": "587b5959-2558-4bc5-ad37-bf2edc30cac0"
   },
   "outputs": [
    {
     "name": "stdout",
     "output_type": "stream",
     "text": [
      "Model: \"sequential_1\"\n",
      "_________________________________________________________________\n",
      "Layer (type)                 Output Shape              Param #   \n",
      "=================================================================\n",
      "dense_5 (Dense)              (None, 1024)              10241024  \n",
      "_________________________________________________________________\n",
      "batch_normalization_3 (Batch (None, 1024)              4096      \n",
      "_________________________________________________________________\n",
      "dense_6 (Dense)              (None, 512)               524800    \n",
      "_________________________________________________________________\n",
      "batch_normalization_4 (Batch (None, 512)               2048      \n",
      "_________________________________________________________________\n",
      "dense_7 (Dense)              (None, 128)               65664     \n",
      "_________________________________________________________________\n",
      "batch_normalization_5 (Batch (None, 128)               512       \n",
      "_________________________________________________________________\n",
      "dense_8 (Dense)              (None, 64)                8256      \n",
      "_________________________________________________________________\n",
      "dropout_1 (Dropout)          (None, 64)                0         \n",
      "_________________________________________________________________\n",
      "dense_9 (Dense)              (None, 10)                650       \n",
      "=================================================================\n",
      "Total params: 10,847,050\n",
      "Trainable params: 10,843,722\n",
      "Non-trainable params: 3,328\n",
      "_________________________________________________________________\n"
     ]
    }
   ],
   "source": [
    "model = models.Sequential()\n",
    "\n",
    "model.add(tf.keras.Input(shape=(10000)))\n",
    "model.add(layers.Dense(1024,activation='relu',kernel_regularizer=tf.keras.regularizers.l1(0.001)))\n",
    "model.add(layers.BatchNormalization())\n",
    "model.add(layers.Dense(512,activation='relu'))\n",
    "model.add(layers.BatchNormalization())\n",
    "model.add(layers.Dense(128,activation='relu'))\n",
    "model.add(layers.BatchNormalization())\n",
    "model.add(layers.Dense(64,activation='relu'))\n",
    "model.add(layers.Dropout(0.6))\n",
    "model.add(layers.Dense(10, activation='softmax'))\n",
    "\n",
    "model.summary()"
   ]
  },
  {
   "cell_type": "code",
   "execution_count": null,
   "metadata": {
    "colab": {
     "base_uri": "https://localhost:8080/"
    },
    "id": "64nZIk-po5rO",
    "outputId": "b5c545a5-82d8-44bc-8d92-77308e6c5f5c"
   },
   "outputs": [
    {
     "name": "stdout",
     "output_type": "stream",
     "text": [
      "Epoch 1/80\n",
      "98/98 [==============================] - 2s 10ms/step - loss: 83.3750 - accuracy: 0.2792 - val_loss: 18.4542 - val_accuracy: 0.2789\n",
      "\n",
      "Epoch 00001: val_accuracy improved from -inf to 0.27888, saving model to best_model.h5\n",
      "Epoch 2/80\n",
      "98/98 [==============================] - 1s 8ms/step - loss: 16.7415 - accuracy: 0.5084 - val_loss: 16.4710 - val_accuracy: 0.3187\n",
      "\n",
      "Epoch 00002: val_accuracy improved from 0.27888 to 0.31873, saving model to best_model.h5\n",
      "Epoch 3/80\n",
      "98/98 [==============================] - 1s 8ms/step - loss: 15.0758 - accuracy: 0.5366 - val_loss: 17.9728 - val_accuracy: 0.1315\n",
      "\n",
      "Epoch 00003: val_accuracy did not improve from 0.31873\n",
      "Epoch 4/80\n",
      "98/98 [==============================] - 1s 8ms/step - loss: 14.6763 - accuracy: 0.5742 - val_loss: 15.4511 - val_accuracy: 0.2908\n",
      "\n",
      "Epoch 00004: val_accuracy did not improve from 0.31873\n",
      "Epoch 5/80\n",
      "98/98 [==============================] - 1s 8ms/step - loss: 14.1678 - accuracy: 0.6299 - val_loss: 16.4624 - val_accuracy: 0.2430\n",
      "\n",
      "Epoch 00005: val_accuracy did not improve from 0.31873\n",
      "Epoch 6/80\n",
      "98/98 [==============================] - 1s 8ms/step - loss: 11.3877 - accuracy: 0.6283 - val_loss: 10.3279 - val_accuracy: 0.4622\n",
      "\n",
      "Epoch 00006: val_accuracy improved from 0.31873 to 0.46215, saving model to best_model.h5\n",
      "Epoch 7/80\n",
      "98/98 [==============================] - 1s 8ms/step - loss: 9.5997 - accuracy: 0.6273 - val_loss: 9.9517 - val_accuracy: 0.4382\n",
      "\n",
      "Epoch 00007: val_accuracy did not improve from 0.46215\n",
      "Epoch 8/80\n",
      "98/98 [==============================] - 1s 8ms/step - loss: 9.5665 - accuracy: 0.6556 - val_loss: 9.1684 - val_accuracy: 0.4064\n",
      "\n",
      "Epoch 00008: val_accuracy did not improve from 0.46215\n",
      "Epoch 9/80\n",
      "98/98 [==============================] - 1s 8ms/step - loss: 9.1978 - accuracy: 0.6665 - val_loss: 9.2057 - val_accuracy: 0.4422\n",
      "\n",
      "Epoch 00009: val_accuracy did not improve from 0.46215\n",
      "Epoch 10/80\n",
      "98/98 [==============================] - 1s 8ms/step - loss: 8.6069 - accuracy: 0.6614 - val_loss: 9.3606 - val_accuracy: 0.3625\n",
      "\n",
      "Epoch 00010: val_accuracy did not improve from 0.46215\n",
      "Epoch 11/80\n",
      "98/98 [==============================] - 1s 8ms/step - loss: 6.8460 - accuracy: 0.7271 - val_loss: 6.1025 - val_accuracy: 0.4861\n",
      "\n",
      "Epoch 00011: val_accuracy improved from 0.46215 to 0.48606, saving model to best_model.h5\n",
      "Epoch 12/80\n",
      "98/98 [==============================] - 1s 8ms/step - loss: 5.5609 - accuracy: 0.7171 - val_loss: 6.8337 - val_accuracy: 0.3944\n",
      "\n",
      "Epoch 00012: val_accuracy did not improve from 0.48606\n",
      "Epoch 13/80\n",
      "98/98 [==============================] - 1s 8ms/step - loss: 5.7412 - accuracy: 0.7254 - val_loss: 5.8095 - val_accuracy: 0.4422\n",
      "\n",
      "Epoch 00013: val_accuracy did not improve from 0.48606\n",
      "Epoch 14/80\n",
      "98/98 [==============================] - 1s 8ms/step - loss: 5.1989 - accuracy: 0.7450 - val_loss: 6.7375 - val_accuracy: 0.3705\n",
      "\n",
      "Epoch 00014: val_accuracy did not improve from 0.48606\n",
      "Epoch 15/80\n",
      "98/98 [==============================] - 1s 8ms/step - loss: 5.6468 - accuracy: 0.7425 - val_loss: 5.4121 - val_accuracy: 0.4940\n",
      "\n",
      "Epoch 00015: val_accuracy improved from 0.48606 to 0.49402, saving model to best_model.h5\n",
      "Epoch 16/80\n",
      "98/98 [==============================] - 1s 8ms/step - loss: 4.1833 - accuracy: 0.7727 - val_loss: 4.8692 - val_accuracy: 0.4622\n",
      "\n",
      "Epoch 00016: val_accuracy did not improve from 0.49402\n",
      "Epoch 17/80\n",
      "98/98 [==============================] - 1s 8ms/step - loss: 3.8184 - accuracy: 0.7817 - val_loss: 4.4280 - val_accuracy: 0.5299\n",
      "\n",
      "Epoch 00017: val_accuracy improved from 0.49402 to 0.52988, saving model to best_model.h5\n",
      "Epoch 18/80\n",
      "98/98 [==============================] - 1s 8ms/step - loss: 4.0044 - accuracy: 0.7701 - val_loss: 5.7355 - val_accuracy: 0.3865\n",
      "\n",
      "Epoch 00018: val_accuracy did not improve from 0.52988\n",
      "Epoch 19/80\n",
      "98/98 [==============================] - 1s 8ms/step - loss: 4.0102 - accuracy: 0.7833 - val_loss: 4.8233 - val_accuracy: 0.4064\n",
      "\n",
      "Epoch 00019: val_accuracy did not improve from 0.52988\n",
      "Epoch 20/80\n",
      "98/98 [==============================] - 1s 8ms/step - loss: 3.6325 - accuracy: 0.8032 - val_loss: 4.5302 - val_accuracy: 0.4741\n",
      "\n",
      "Epoch 00020: val_accuracy did not improve from 0.52988\n",
      "Epoch 21/80\n",
      "98/98 [==============================] - 1s 8ms/step - loss: 3.0421 - accuracy: 0.8381 - val_loss: 3.4101 - val_accuracy: 0.5259\n",
      "\n",
      "Epoch 00021: val_accuracy did not improve from 0.52988\n",
      "Epoch 22/80\n",
      "98/98 [==============================] - 1s 8ms/step - loss: 2.3321 - accuracy: 0.8595 - val_loss: 3.2072 - val_accuracy: 0.6056\n",
      "\n",
      "Epoch 00022: val_accuracy improved from 0.52988 to 0.60558, saving model to best_model.h5\n",
      "Epoch 23/80\n",
      "98/98 [==============================] - 1s 8ms/step - loss: 2.4052 - accuracy: 0.8411 - val_loss: 2.8209 - val_accuracy: 0.6494\n",
      "\n",
      "Epoch 00023: val_accuracy improved from 0.60558 to 0.64940, saving model to best_model.h5\n",
      "Epoch 24/80\n",
      "98/98 [==============================] - 1s 8ms/step - loss: 2.3578 - accuracy: 0.8536 - val_loss: 3.3466 - val_accuracy: 0.5299\n",
      "\n",
      "Epoch 00024: val_accuracy did not improve from 0.64940\n",
      "Epoch 25/80\n",
      "98/98 [==============================] - 1s 8ms/step - loss: 2.4195 - accuracy: 0.8604 - val_loss: 3.3266 - val_accuracy: 0.5378\n",
      "\n",
      "Epoch 00025: val_accuracy did not improve from 0.64940\n",
      "Epoch 26/80\n",
      "98/98 [==============================] - 1s 8ms/step - loss: 1.9182 - accuracy: 0.8852 - val_loss: 2.2834 - val_accuracy: 0.6414\n",
      "\n",
      "Epoch 00026: val_accuracy did not improve from 0.64940\n",
      "Epoch 27/80\n",
      "98/98 [==============================] - 1s 8ms/step - loss: 1.5165 - accuracy: 0.9115 - val_loss: 2.2052 - val_accuracy: 0.6454\n",
      "\n",
      "Epoch 00027: val_accuracy did not improve from 0.64940\n",
      "Epoch 28/80\n",
      "98/98 [==============================] - 1s 8ms/step - loss: 1.4790 - accuracy: 0.9036 - val_loss: 2.4323 - val_accuracy: 0.6295\n",
      "\n",
      "Epoch 00028: val_accuracy did not improve from 0.64940\n",
      "Epoch 29/80\n",
      "98/98 [==============================] - 1s 8ms/step - loss: 1.6338 - accuracy: 0.8768 - val_loss: 2.2102 - val_accuracy: 0.6295\n",
      "\n",
      "Epoch 00029: val_accuracy did not improve from 0.64940\n",
      "Epoch 30/80\n",
      "98/98 [==============================] - 1s 8ms/step - loss: 1.5092 - accuracy: 0.9046 - val_loss: 2.1750 - val_accuracy: 0.6375\n",
      "\n",
      "Epoch 00030: val_accuracy did not improve from 0.64940\n",
      "Epoch 31/80\n",
      "98/98 [==============================] - 1s 8ms/step - loss: 1.2063 - accuracy: 0.9341 - val_loss: 1.4302 - val_accuracy: 0.7610\n",
      "\n",
      "Epoch 00031: val_accuracy improved from 0.64940 to 0.76096, saving model to best_model.h5\n",
      "Epoch 32/80\n",
      "98/98 [==============================] - 1s 8ms/step - loss: 1.0434 - accuracy: 0.9293 - val_loss: 1.5058 - val_accuracy: 0.7610\n",
      "\n",
      "Epoch 00032: val_accuracy did not improve from 0.76096\n",
      "Epoch 33/80\n",
      "98/98 [==============================] - 1s 8ms/step - loss: 1.1283 - accuracy: 0.9225 - val_loss: 1.4049 - val_accuracy: 0.7769\n",
      "\n",
      "Epoch 00033: val_accuracy improved from 0.76096 to 0.77689, saving model to best_model.h5\n",
      "Epoch 34/80\n",
      "98/98 [==============================] - 1s 8ms/step - loss: 1.0358 - accuracy: 0.9356 - val_loss: 1.7440 - val_accuracy: 0.6892\n",
      "\n",
      "Epoch 00034: val_accuracy did not improve from 0.77689\n",
      "Epoch 35/80\n",
      "98/98 [==============================] - 1s 8ms/step - loss: 1.0571 - accuracy: 0.9155 - val_loss: 1.7783 - val_accuracy: 0.6693\n",
      "\n",
      "Epoch 00035: val_accuracy did not improve from 0.77689\n",
      "Epoch 36/80\n",
      "98/98 [==============================] - 1s 8ms/step - loss: 0.9467 - accuracy: 0.9446 - val_loss: 1.2495 - val_accuracy: 0.7849\n",
      "\n",
      "Epoch 00036: val_accuracy improved from 0.77689 to 0.78486, saving model to best_model.h5\n",
      "Epoch 37/80\n",
      "98/98 [==============================] - 1s 8ms/step - loss: 0.7980 - accuracy: 0.9568 - val_loss: 1.1703 - val_accuracy: 0.7888\n",
      "\n",
      "Epoch 00037: val_accuracy improved from 0.78486 to 0.78884, saving model to best_model.h5\n",
      "Epoch 38/80\n",
      "98/98 [==============================] - 1s 8ms/step - loss: 0.7824 - accuracy: 0.9480 - val_loss: 1.1559 - val_accuracy: 0.8287\n",
      "\n",
      "Epoch 00038: val_accuracy improved from 0.78884 to 0.82869, saving model to best_model.h5\n",
      "Epoch 39/80\n",
      "98/98 [==============================] - 1s 8ms/step - loss: 0.7819 - accuracy: 0.9433 - val_loss: 1.2431 - val_accuracy: 0.7968\n",
      "\n",
      "Epoch 00039: val_accuracy did not improve from 0.82869\n",
      "Epoch 40/80\n",
      "98/98 [==============================] - 1s 8ms/step - loss: 0.7402 - accuracy: 0.9544 - val_loss: 1.2123 - val_accuracy: 0.7649\n",
      "\n",
      "Epoch 00040: val_accuracy did not improve from 0.82869\n",
      "Epoch 41/80\n",
      "98/98 [==============================] - 1s 8ms/step - loss: 0.6569 - accuracy: 0.9636 - val_loss: 1.3811 - val_accuracy: 0.7211\n",
      "\n",
      "Epoch 00041: val_accuracy did not improve from 0.82869\n",
      "Epoch 42/80\n",
      "98/98 [==============================] - 1s 8ms/step - loss: 0.5788 - accuracy: 0.9717 - val_loss: 1.0133 - val_accuracy: 0.8287\n",
      "\n",
      "Epoch 00042: val_accuracy did not improve from 0.82869\n",
      "Epoch 43/80\n",
      "98/98 [==============================] - 1s 8ms/step - loss: 0.5672 - accuracy: 0.9750 - val_loss: 1.2167 - val_accuracy: 0.7610\n",
      "\n",
      "Epoch 00043: val_accuracy did not improve from 0.82869\n",
      "Epoch 44/80\n",
      "98/98 [==============================] - 1s 8ms/step - loss: 0.5705 - accuracy: 0.9667 - val_loss: 1.0180 - val_accuracy: 0.8247\n",
      "\n",
      "Epoch 00044: val_accuracy did not improve from 0.82869\n",
      "Epoch 45/80\n",
      "98/98 [==============================] - 1s 8ms/step - loss: 0.5470 - accuracy: 0.9708 - val_loss: 1.0597 - val_accuracy: 0.7928\n",
      "\n",
      "Epoch 00045: val_accuracy did not improve from 0.82869\n",
      "Epoch 46/80\n",
      "98/98 [==============================] - 1s 8ms/step - loss: 0.5254 - accuracy: 0.9688 - val_loss: 1.0177 - val_accuracy: 0.8048\n",
      "\n",
      "Epoch 00046: val_accuracy did not improve from 0.82869\n",
      "Epoch 47/80\n",
      "98/98 [==============================] - 1s 8ms/step - loss: 0.4739 - accuracy: 0.9768 - val_loss: 0.9454 - val_accuracy: 0.8167\n",
      "\n",
      "Epoch 00047: val_accuracy did not improve from 0.82869\n",
      "Epoch 48/80\n",
      "98/98 [==============================] - 1s 8ms/step - loss: 0.4521 - accuracy: 0.9804 - val_loss: 0.9535 - val_accuracy: 0.8088\n",
      "\n",
      "Epoch 00048: val_accuracy did not improve from 0.82869\n",
      "Epoch 49/80\n",
      "98/98 [==============================] - 1s 8ms/step - loss: 0.4536 - accuracy: 0.9765 - val_loss: 0.9395 - val_accuracy: 0.8088\n",
      "\n",
      "Epoch 00049: val_accuracy did not improve from 0.82869\n",
      "Epoch 50/80\n",
      "98/98 [==============================] - 1s 8ms/step - loss: 0.4503 - accuracy: 0.9731 - val_loss: 0.9531 - val_accuracy: 0.8287\n",
      "\n",
      "Epoch 00050: val_accuracy did not improve from 0.82869\n",
      "Epoch 51/80\n",
      "98/98 [==============================] - 1s 8ms/step - loss: 0.4597 - accuracy: 0.9716 - val_loss: 0.8750 - val_accuracy: 0.8287\n",
      "\n",
      "Epoch 00051: val_accuracy did not improve from 0.82869\n",
      "Epoch 52/80\n",
      "98/98 [==============================] - 1s 8ms/step - loss: 0.4251 - accuracy: 0.9794 - val_loss: 0.8898 - val_accuracy: 0.8127\n",
      "\n",
      "Epoch 00052: val_accuracy did not improve from 0.82869\n",
      "Epoch 53/80\n",
      "98/98 [==============================] - 1s 8ms/step - loss: 0.4215 - accuracy: 0.9759 - val_loss: 0.8983 - val_accuracy: 0.8287\n",
      "\n",
      "Epoch 00053: val_accuracy did not improve from 0.82869\n",
      "Epoch 54/80\n",
      "98/98 [==============================] - 1s 8ms/step - loss: 0.4165 - accuracy: 0.9736 - val_loss: 0.8959 - val_accuracy: 0.8167\n",
      "\n",
      "Epoch 00054: val_accuracy did not improve from 0.82869\n",
      "Epoch 55/80\n",
      "98/98 [==============================] - 1s 8ms/step - loss: 0.4066 - accuracy: 0.9848 - val_loss: 0.9131 - val_accuracy: 0.8207\n",
      "\n",
      "Epoch 00055: val_accuracy did not improve from 0.82869\n",
      "Epoch 56/80\n",
      "98/98 [==============================] - 1s 8ms/step - loss: 0.4098 - accuracy: 0.9749 - val_loss: 0.8840 - val_accuracy: 0.8207\n",
      "\n",
      "Epoch 00056: val_accuracy did not improve from 0.82869\n",
      "Epoch 00056: early stopping\n"
     ]
    }
   ],
   "source": [
    "# Compile the model\n",
    "model.compile(loss=\"categorical_crossentropy\", optimizer = 'adam', metrics=[\"accuracy\"])\n",
    "\n",
    "# Learning scheduler function\n",
    "def step_decay(epoch):\n",
    "\tinitial_lrate = 1e-3\n",
    "\tdrop = 0.5\n",
    "\tepochs_drop = 5\n",
    "\tlrate = initial_lrate * math.pow(drop, math.floor((epoch)/epochs_drop))\n",
    "\treturn lrate\n",
    "\n",
    "# Train the model\n",
    "# Consider callbacks\n",
    "mc = ModelCheckpoint('best_model.h5', monitor='val_accuracy', mode='max', verbose=1, save_best_only=True)\n",
    "es = EarlyStopping(monitor='val_loss', mode='min', verbose=1, patience=5)\n",
    "lr = LearningRateScheduler(step_decay)\n",
    "\n",
    "history = model.fit(\n",
    "      augmented_NormalizedTrainX,\n",
    "      augmentedTrainY,\n",
    "      epochs=80,\n",
    "      validation_data=(augmented_NormalizedValX,augmentedValY),\n",
    "      verbose=1, callbacks = [ es, mc, lr])"
   ]
  },
  {
   "cell_type": "code",
   "execution_count": null,
   "metadata": {
    "colab": {
     "base_uri": "https://localhost:8080/",
     "height": 404
    },
    "id": "gHePJHSksLdd",
    "outputId": "b9ffcf24-8863-4a8f-f22a-358efc266a4a"
   },
   "outputs": [
    {
     "data": {
      "image/png": "[encoded data removed]",
      "text/plain": [
       "<Figure size 720x432 with 1 Axes>"
      ]
     },
     "metadata": {
      "tags": []
     },
     "output_type": "display_data"
    }
   ],
   "source": [
    "plt.figure(figsize=(10, 6))\n",
    "\n",
    "epochs_range = range(len(history.history['loss']))\n",
    "\n",
    "plt.plot(epochs_range, history.history['loss'], label=\"Training Loss\")\n",
    "plt.plot(epochs_range, history.history['val_loss'], label=\"Validation Loss\")\n",
    "plt.xlabel(\"Epoch\")\n",
    "plt.ylabel(\"Loss\")\n",
    "plt.legend()\n",
    "plt.title(\"Training and Validation Loss Over Time for 56 epochs\")\n",
    "plt.show()"
   ]
  },
  {
   "cell_type": "code",
   "execution_count": null,
   "metadata": {
    "colab": {
     "base_uri": "https://localhost:8080/",
     "height": 404
    },
    "id": "DPO5MSnBEHhc",
    "outputId": "ead32112-793d-4f91-8e61-303733950a5f"
   },
   "outputs": [
    {
     "data": {
      "image/png": "[encoded data removed]",
      "text/plain": [
       "<Figure size 720x432 with 1 Axes>"
      ]
     },
     "metadata": {
      "tags": []
     },
     "output_type": "display_data"
    }
   ],
   "source": [
    "plt.figure(figsize=(10, 6))\n",
    "\n",
    "epochs_range = range(len(history.history['accuracy']))\n",
    "\n",
    "plt.plot(epochs_range, history.history['accuracy'], label=\"Training accuracy\")\n",
    "plt.plot(epochs_range, history.history['val_accuracy'], label=\"Validation accuracy\")\n",
    "plt.xlabel(\"Epoch\")\n",
    "plt.ylabel(\"Loss\")\n",
    "plt.legend()\n",
    "plt.title(\"Training and Validation accuracy Over Time for 56 epochs\")\n",
    "plt.show()"
   ]
  },
  {
   "cell_type": "code",
   "execution_count": null,
   "metadata": {
    "id": "FuZWIe1hsfjr"
   },
   "outputs": [],
   "source": [
    "def evaluate_model(model, X_test, y_test_oneHot, labels):\n",
    "    \n",
    "    labels = np.array(labels)\n",
    "    labels = labels.astype(int)\n",
    "    \n",
    "    y_pred = np.argmax(model.predict(X_test), axis=1)\n",
    "    \n",
    "    \n",
    "    cm = confusion_matrix(labels, y_pred)\n",
    "    clr = classification_report(labels, y_pred)\n",
    "    \n",
    "    plt.figure(figsize=(10, 10))\n",
    "    sns.heatmap(cm, annot=True, vmin=0, fmt='g', cmap='Blues', cbar=False)\n",
    "    plt.xlabel(\"Predicted\")\n",
    "    plt.ylabel(\"Actual\")\n",
    "    plt.title(\"Confusion Matrix\")\n",
    "    plt.show()\n",
    "    \n",
    "    print(\"Classification Report:\\n----------------------\\n\", clr)\n"
   ]
  },
  {
   "cell_type": "code",
   "execution_count": null,
   "metadata": {
    "id": "VrhyilGT-6dW"
   },
   "outputs": [],
   "source": [
    "model.save('best_ever_ANN.h5')"
   ]
  },
  {
   "cell_type": "code",
   "execution_count": null,
   "metadata": {
    "id": "LRaGrl_TwQSt"
   },
   "outputs": [],
   "source": [
    "model.load_weights('best_model.h5')\n"
   ]
  },
  {
   "cell_type": "code",
   "execution_count": null,
   "metadata": {
    "colab": {
     "base_uri": "https://localhost:8080/",
     "height": 944
    },
    "id": "PBgU8m4fs7Uv",
    "outputId": "ea9500a4-3361-4d16-c955-ff63a9fadfa5"
   },
   "outputs": [
    {
     "data": {
      "image/png": "[encoded data removed]",
      "text/plain": [
       "<Figure size 720x720 with 1 Axes>"
      ]
     },
     "metadata": {
      "tags": []
     },
     "output_type": "display_data"
    },
    {
     "name": "stdout",
     "output_type": "stream",
     "text": [
      "Classification Report:\n",
      "----------------------\n",
      "               precision    recall  f1-score   support\n",
      "\n",
      "           0       0.83      0.89      0.86        27\n",
      "           1       0.80      0.96      0.87        25\n",
      "           2       0.85      0.88      0.86        25\n",
      "           3       0.88      0.92      0.90        25\n",
      "           4       0.64      0.72      0.68        25\n",
      "           5       0.96      0.96      0.96        25\n",
      "           6       1.00      0.72      0.84        25\n",
      "           7       0.73      0.76      0.75        25\n",
      "           8       0.78      0.72      0.75        25\n",
      "           9       0.95      0.80      0.87        25\n",
      "\n",
      "    accuracy                           0.83       252\n",
      "   macro avg       0.84      0.83      0.83       252\n",
      "weighted avg       0.84      0.83      0.83       252\n",
      "\n"
     ]
    }
   ],
   "source": [
    "evaluate_model(model, augmented_NormalizedTestX, augmentedTestY, labelsTest)"
   ]
  }
 ],
 "metadata": {
  "accelerator": "GPU",
  "colab": {
   "collapsed_sections": [],
   "name": "ANN_best.ipynb",
   "provenance": []
  },
  "kernelspec": {
   "display_name": "Python 3",
   "language": "python",
   "name": "python3"
  },
  "language_info": {
   "codemirror_mode": {
    "name": "ipython",
    "version": 3
   },
   "file_extension": ".py",
   "mimetype": "text/x-python",
   "name": "python",
   "nbconvert_exporter": "python",
   "pygments_lexer": "ipython3",
   "version": "3.8.6"
  }
 },
 "nbformat": 4,
 "nbformat_minor": 1
}
